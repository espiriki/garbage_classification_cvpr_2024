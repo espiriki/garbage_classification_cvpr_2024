{
  "cells": [
    {
      "cell_type": "markdown",
      "metadata": {
        "id": "8Q3nTGArN-y6"
      },
      "source": [
        " **GARBAGE CLASSIFICATION PROJECT PREPROCESSING**"
      ],
      "id": "8Q3nTGArN-y6"
    },
    {
      "cell_type": "code",
      "execution_count": null,
      "metadata": {
        "id": "r9w2WPGJNhFT"
      },
      "outputs": [],
      "source": [
        "!pip install pigeon-jupyter"
      ],
      "id": "r9w2WPGJNhFT"
    },
    {
      "cell_type": "code",
      "execution_count": 2,
      "metadata": {
        "id": "f7569d03"
      },
      "outputs": [],
      "source": [
        "from __future__ import print_function\n",
        "\n",
        "import os.path\n",
        "import io\n",
        "import os\n",
        "\n",
        "from IPython.display import clear_output\n",
        "import matplotlib.pyplot as plt\n",
        "from PIL import Image\n",
        "from ipywidgets import Button, HBox\n",
        "import asyncio\n",
        "import numpy as np\n",
        "import glob\n",
        "import IPython\n",
        "import shutil\n",
        "import cv2\n",
        "import pigeon\n",
        "from pigeon import annotate\n",
        "from IPython.display import display"
      ],
      "id": "f7569d03"
    },
    {
      "cell_type": "code",
      "execution_count": 3,
      "metadata": {
        "id": "d8eb9647"
      },
      "outputs": [],
      "source": [
        "test = True\n",
        "max_num_pictures_to_download = 20"
      ],
      "id": "d8eb9647"
    },
    {
      "cell_type": "code",
      "execution_count": 4,
      "metadata": {
        "id": "19a63a31"
      },
      "outputs": [],
      "source": [
        "def get_current_pics_in_folder(folder):\n",
        "    return [fn for fn in os.listdir(folder) if fn.endswith(('.jpeg', '.jpg'))]"
      ],
      "id": "19a63a31"
    },
    {
      "cell_type": "code",
      "execution_count": 5,
      "metadata": {
        "id": "129dfd27"
      },
      "outputs": [],
      "source": [
        "folder_names = [\"Black\", \"Green\", \"Blue\", \"Refund\"]"
      ],
      "id": "129dfd27"
    },
    {
      "cell_type": "code",
      "execution_count": 6,
      "metadata": {
        "colab": {
          "base_uri": "https://localhost:8080/"
        },
        "id": "mvOGOAZgNriy",
        "outputId": "5dea6d43-c1a7-4b46-e525-8fed7cfa1e8e"
      },
      "outputs": [
        {
          "output_type": "stream",
          "name": "stdout",
          "text": [
            "Mounted at /content/drive\n"
          ]
        }
      ],
      "source": [
        "from google.colab import drive\n",
        "drive.mount('/content/drive')"
      ],
      "id": "mvOGOAZgNriy"
    },
    {
      "cell_type": "markdown",
      "metadata": {
        "id": "tq66X1rUOMBq"
      },
      "source": [
        "**Classify the images in the 4 classes**"
      ],
      "id": "tq66X1rUOMBq"
    },
    {
      "cell_type": "code",
      "execution_count": 7,
      "metadata": {
        "colab": {
          "base_uri": "https://localhost:8080/",
          "height": 516,
          "referenced_widgets": [
            "933b58cbb9f946549a6da33bd5632062",
            "1661a43eb73e4514a1a0e1c4948dc801",
            "c3213e04e28d432a97a1335930c725f5",
            "7776c79096804abab9528eb405ab54b4",
            "f047b090738d49818964bdbee921a217",
            "2d9209115f0d4c0cbbc000888ccdc5dd",
            "8acabc139f744d9fb56203041c6a1316",
            "e302fd59f5de49d290332d65b5ac24ce",
            "bd999bd9e63f4f01bbc59eafd45ef613",
            "69692c3b1b9140ccafed4b8bb43b4693",
            "e5bf1dc0fb004801b181a7b13ab93a1c",
            "a9ff532d32594776894b9f62f11b0b22",
            "ec84f6b58391447d89d700cbf28fd6d0",
            "02826a3b39614bdca1122606326eb7f5",
            "fe8ad76c0e99409c8cbd1ec82bf95526",
            "e68ef69a1de242f08e9c85584d65ae21",
            "d765f526f86c473aa9802cae5fa602ec",
            "863dd14bbb364977a0549c62030c570f",
            "0770389a41044d7c9a0d42d9eb9ecb15",
            "d556b3522d824198b1e38940aeee394c",
            "c95c248f6b7c4f82bb8ffe808b8ba6c7",
            "07f012a666aa4281a07ef6dab0bb98c8"
          ]
        },
        "id": "1c02675a",
        "outputId": "46fed89f-8ed8-47a5-ee98-4fee8ca57207"
      },
      "outputs": [
        {
          "output_type": "display_data",
          "data": {
            "text/plain": [
              "HTML(value='0 examples annotated, 142 examples left')"
            ],
            "application/vnd.jupyter.widget-view+json": {
              "version_major": 2,
              "version_minor": 0,
              "model_id": "933b58cbb9f946549a6da33bd5632062"
            }
          },
          "metadata": {}
        },
        {
          "output_type": "display_data",
          "data": {
            "text/plain": [
              "HBox(children=(Button(description='Black', style=ButtonStyle()), Button(description='Green', style=ButtonStyle…"
            ],
            "application/vnd.jupyter.widget-view+json": {
              "version_major": 2,
              "version_minor": 0,
              "model_id": "7776c79096804abab9528eb405ab54b4"
            }
          },
          "metadata": {}
        },
        {
          "output_type": "display_data",
          "data": {
            "text/plain": [
              "Output()"
            ],
            "application/vnd.jupyter.widget-view+json": {
              "version_major": 2,
              "version_minor": 0,
              "model_id": "c95c248f6b7c4f82bb8ffe808b8ba6c7"
            }
          },
          "metadata": {}
        }
      ],
      "source": [
        "import matplotlib.pyplot as plt\n",
        "\n",
        "_width = 500\n",
        "_height = 500\n",
        "tmp_image_name = \"tmp.jpg\"\n",
        "def resize_and_display(pic):\n",
        "    print(pic)\n",
        "\n",
        "    img=plt.imread(pic)\n",
        "    plt.imshow(img, cmap='gray')\n",
        "    plt.show()\n",
        "\n",
        "# Logic to classify files\n",
        "folder_name = \"/content/drive/MyDrive/UCALGARY PROJECT/Refund\"\n",
        "current_pics_in_local_folder =  get_current_pics_in_folder(folder_name)\n",
        "\n",
        "pic_with_folder=[]\n",
        "for pic in current_pics_in_local_folder:\n",
        "    pic_with_folder.append(folder_name + os.sep + pic)\n",
        "\n",
        "\n",
        "directory= \"/content/drive/MyDrive/UCALGARY PROJECT/final_data\"\n",
        "\n",
        "working_dataset=[]\n",
        "\n",
        "#create the necessary folders\n",
        "for folder in folder_names:\n",
        "    path = os.path.join(directory, folder)\n",
        "    #os.makedirs(path) ########### UNCOMMENT THIS WHEN USING FIRST TIME\n",
        "    working_dataset.append(path)\n",
        "\n",
        "annotations = annotate(\n",
        "  pic_with_folder,\n",
        "  options=folder_names,\n",
        "  display_fn=lambda filename: resize_and_display(filename))"
      ],
      "id": "1c02675a"
    },
    {
      "cell_type": "code",
      "execution_count": null,
      "metadata": {
        "id": "ZzALqUlul1Km"
      },
      "outputs": [],
      "source": [
        "annotations"
      ],
      "id": "ZzALqUlul1Km"
    },
    {
      "cell_type": "code",
      "execution_count": null,
      "metadata": {
        "colab": {
          "base_uri": "https://localhost:8080/"
        },
        "id": "OkrR7PfIl3ON",
        "outputId": "c564539c-8a31-4b7e-9c11-d1eae1b57ae4"
      },
      "outputs": [
        {
          "name": "stdout",
          "output_type": "stream",
          "text": [
            "('/content/drive/MyDrive/UCALGARY PROJECT/Refund/used_paperback_boks_30.jpg', 'Blue')\n",
            "('/content/drive/MyDrive/UCALGARY PROJECT/Refund/cologne_35.jpg', 'Black')\n",
            "('/content/drive/MyDrive/UCALGARY PROJECT/Refund/used_oil_28.jpg', 'Black')\n",
            "('/content/drive/MyDrive/UCALGARY PROJECT/Refund/toilet_cleaning_powder_27.jpg', 'Black')\n",
            "('/content/drive/MyDrive/UCALGARY PROJECT/Refund/wooend_table_79.jpg', 'Blue')\n",
            "('/content/drive/MyDrive/UCALGARY PROJECT/Refund/ink_cartridge_116.jpg', 'Refund')\n",
            "('/content/drive/MyDrive/UCALGARY PROJECT/Refund/car_battery_151.jpg', 'Refund')\n",
            "('/content/drive/MyDrive/UCALGARY PROJECT/Refund/old_speaker_126.jpg', 'Refund')\n",
            "('/content/drive/MyDrive/UCALGARY PROJECT/Refund/bicycle_pedals_146.jpg', 'Refund')\n",
            "('/content/drive/MyDrive/UCALGARY PROJECT/Refund/cologne_159.jpg', 'Black')\n",
            "('/content/drive/MyDrive/UCALGARY PROJECT/Refund/simcard_131.jpg', 'Refund')\n",
            "('/content/drive/MyDrive/UCALGARY PROJECT/Refund/car_wheel_skin_157.jpg', 'Refund')\n",
            "('/content/drive/MyDrive/UCALGARY PROJECT/Refund/paint_200.jpg', 'Refund')\n",
            "('/content/drive/MyDrive/UCALGARY PROJECT/Refund/multi_tool_screwdriver_191.jpg', 'Refund')\n",
            "('/content/drive/MyDrive/UCALGARY PROJECT/Refund/glasses_case_169.jpg', 'Refund')\n",
            "('/content/drive/MyDrive/UCALGARY PROJECT/Refund/hex_keys_177.jpg', 'Refund')\n",
            "('/content/drive/MyDrive/UCALGARY PROJECT/Refund/key_with_sensor_247.jpg', 'Refund')\n",
            "('/content/drive/MyDrive/UCALGARY PROJECT/Refund/iron_245.jpg', 'Refund')\n",
            "('/content/drive/MyDrive/UCALGARY PROJECT/Refund/fork_242.jpg', 'Refund')\n",
            "('/content/drive/MyDrive/UCALGARY PROJECT/Refund/ceramic_plate_235.jpg', 'Refund')\n",
            "('/content/drive/MyDrive/UCALGARY PROJECT/Refund/electronic_key_fob_238.jpg', 'Refund')\n",
            "('/content/drive/MyDrive/UCALGARY PROJECT/Refund/metal_plastic_knife_255.jpg', 'Refund')\n",
            "('/content/drive/MyDrive/UCALGARY PROJECT/Refund/old_key_fob_260.jpg', 'Refund')\n",
            "('/content/drive/MyDrive/UCALGARY PROJECT/Refund/old_tooth_brush_268.jpg', 'Black')\n",
            "('/content/drive/MyDrive/UCALGARY PROJECT/Refund/shoe_brush_279.jpg', 'Refund')\n",
            "('/content/drive/MyDrive/UCALGARY PROJECT/Refund/rubbing_alcohol_bottle_277.jpg', 'Refund')\n",
            "('/content/drive/MyDrive/UCALGARY PROJECT/Refund/paint_can_272.jpg', 'Refund')\n",
            "('/content/drive/MyDrive/UCALGARY PROJECT/Refund/plastic_bag_273.jpg', 'Blue')\n",
            "('/content/drive/MyDrive/UCALGARY PROJECT/Refund/suace_pan_283.jpg', 'Refund')\n",
            "('/content/drive/MyDrive/UCALGARY PROJECT/Refund/silicon_strainer_281.jpg', 'Blue')\n",
            "('/content/drive/MyDrive/UCALGARY PROJECT/Refund/black_cup_299.jpg', 'Refund')\n",
            "('/content/drive/MyDrive/UCALGARY PROJECT/Refund/candle_303.jpg', 'Refund')\n",
            "('/content/drive/MyDrive/UCALGARY PROJECT/Refund/trash_bin_285.jpg', 'Refund')\n",
            "('/content/drive/MyDrive/UCALGARY PROJECT/Refund/table_lamp_shade_284.jpg', 'Refund')\n",
            "('/content/drive/MyDrive/UCALGARY PROJECT/Refund/metal_measuring_spoon_315.jpg', 'Refund')\n",
            "('/content/drive/MyDrive/UCALGARY PROJECT/Refund/metal_water_bottle_316.jpg', 'Refund')\n",
            "('/content/drive/MyDrive/UCALGARY PROJECT/Refund/light_blue_thermos_310.jpg', 'Refund')\n"
          ]
        }
      ],
      "source": [
        "#When you finish classifying a batch, just run this cell\n",
        "\n",
        "directory= \"/content/drive/MyDrive/UCALGARY PROJECT/final_data\"\n",
        "new_note=[]\n",
        "try:\n",
        "    os.remove(tmp_image_name)\n",
        "except:\n",
        "    pass\n",
        "# Move the pictures to the right folder\n",
        "for note in annotations:\n",
        "    print(note)\n",
        "    new_note=os.path.join(directory, note[1])\n",
        "    try:\n",
        "        shutil.move(note[0], new_note)\n",
        "    except Exception as e:\n",
        "        err_str = str(e)\n",
        "        #just ignore the error if the file was already copied\n",
        "        if \"already\" in err_str:\n",
        "            pass"
      ],
      "id": "OkrR7PfIl3ON"
    },
    {
      "cell_type": "markdown",
      "metadata": {
        "id": "fHUMVCARVxhl"
      },
      "source": [
        "**RENAME THE FILES**"
      ],
      "id": "fHUMVCARVxhl"
    },
    {
      "cell_type": "code",
      "execution_count": 8,
      "metadata": {
        "colab": {
          "base_uri": "https://localhost:8080/",
          "height": 142,
          "referenced_widgets": [
            "f3e0f6044ba14376bdc0cb845687588e",
            "535dccfae9374a0386ae71b222758aa9",
            "55374cfdd20944e88d0f8b6f14be6e7d",
            "cbc64d7f41554f97b1a99dc1d1737377",
            "0585adb62ad64daca84e9a2e8caf4486",
            "b01f1e2fba044d2ab67531a75dc7a584",
            "c7e13c401ec3497a8341c0660ad970bc",
            "72cd5afe21aa4c84a71130118aa65b26",
            "a907785a37c54652bcb595f17519c77e",
            "8689082cf95f4cfea1bb33ae951f3398",
            "dc6134e0e7a34f5ea8aaf70a7c155248",
            "7d8927e14d4e4e0abcdc78f928d0c8a8",
            "afe19e4f62ba4d54af539db464d33e3f",
            "884f40c08a3b489d9badc3ad6ee9393e",
            "759c042b627342ee835ecb6811cd0259",
            "32af30896a454dc584b00f0309393f5a"
          ]
        },
        "id": "2n5gOLXnOsiF",
        "outputId": "a5c15a3f-4707-4115-cbbe-030f5210a185"
      },
      "outputs": [
        {
          "output_type": "display_data",
          "data": {
            "text/plain": [
              "HTML(value='0 examples annotated, 142 examples left')"
            ],
            "application/vnd.jupyter.widget-view+json": {
              "version_major": 2,
              "version_minor": 0,
              "model_id": "f3e0f6044ba14376bdc0cb845687588e"
            }
          },
          "metadata": {}
        },
        {
          "output_type": "display_data",
          "data": {
            "text/plain": [
              "Textarea(value='')"
            ],
            "application/vnd.jupyter.widget-view+json": {
              "version_major": 2,
              "version_minor": 0,
              "model_id": "cbc64d7f41554f97b1a99dc1d1737377"
            }
          },
          "metadata": {}
        },
        {
          "output_type": "display_data",
          "data": {
            "text/plain": [
              "HBox(children=(Button(description='submit', style=ButtonStyle()), Button(description='skip', style=ButtonStyle…"
            ],
            "application/vnd.jupyter.widget-view+json": {
              "version_major": 2,
              "version_minor": 0,
              "model_id": "c7e13c401ec3497a8341c0660ad970bc"
            }
          },
          "metadata": {}
        },
        {
          "output_type": "display_data",
          "data": {
            "text/plain": [
              "Output()"
            ],
            "application/vnd.jupyter.widget-view+json": {
              "version_major": 2,
              "version_minor": 0,
              "model_id": "759c042b627342ee835ecb6811cd0259"
            }
          },
          "metadata": {}
        }
      ],
      "source": [
        "import matplotlib.pyplot as plt\n",
        "_width = 500\n",
        "_height = 500\n",
        "import os\n",
        "\n",
        "def resize_and_display(pic):\n",
        "    print(pic)\n",
        "    img = cv2.imread(pic)\n",
        "    img = cv2.cvtColor(img, cv2.COLOR_BGR2RGB)\n",
        "    resized = cv2.resize(img, dsize=(_width, _height), interpolation=cv2.INTER_CUBIC)\n",
        "    cv2.imshow(resized)\n",
        "\n",
        "# Logic to classify files\n",
        "testing=\"/content/drive/MyDrive/UCALGARY PROJECT/Refund\"\n",
        "current_pics_in_local_folder =  get_current_pics_in_folder(testing)\n",
        "\n",
        "pic_with_folder=[]\n",
        "for pic in current_pics_in_local_folder:\n",
        "    pic_with_folder.append(pic)\n",
        "\n",
        "annotations = annotate(\n",
        "  pic_with_folder,\n",
        "  options=None)"
      ],
      "id": "2n5gOLXnOsiF"
    },
    {
      "cell_type": "code",
      "execution_count": null,
      "metadata": {
        "colab": {
          "base_uri": "https://localhost:8080/"
        },
        "id": "fyr2jTk3TEXb",
        "outputId": "bfef5293-865b-47b6-8fbe-e56afe564163"
      },
      "outputs": [
        {
          "data": {
            "text/plain": [
              "[('drain_cleaner_13.jpg', 'dqvjvwjehdv3j')]"
            ]
          },
          "execution_count": 17,
          "metadata": {},
          "output_type": "execute_result"
        }
      ],
      "source": [
        "annotations"
      ],
      "id": "fyr2jTk3TEXb"
    },
    {
      "cell_type": "code",
      "execution_count": null,
      "metadata": {
        "id": "ElaoqJaj77sq"
      },
      "outputs": [],
      "source": [
        "annotations = list(map(list, annotations))"
      ],
      "id": "ElaoqJaj77sq"
    },
    {
      "cell_type": "code",
      "execution_count": null,
      "metadata": {
        "id": "GayiZjoh0Kgl"
      },
      "outputs": [],
      "source": [
        "path_0=testing\n",
        "path_1=\"/content/drive/MyDrive/UCALGARY PROJECT/final_data/Refund\"\n",
        "\n",
        "for i in range(len(annotations)):\n",
        "  #print(annotations[i][0])\n",
        "  annotations[i][0]= os.path.join(path_0, annotations[i][0])\n",
        "  annotations[i][1]= os.path.join(path_1, annotations[i][1])"
      ],
      "id": "GayiZjoh0Kgl"
    },
    {
      "cell_type": "code",
      "execution_count": null,
      "metadata": {
        "colab": {
          "base_uri": "https://localhost:8080/"
        },
        "id": "9YLJhsEm50YX",
        "outputId": "adc443d6-22d4-49e8-978b-7137ededc93c"
      },
      "outputs": [
        {
          "data": {
            "text/plain": [
              "[['/content/drive/MyDrive/UCALGARY PROJECT/Data/SMALL_DATA/Refund/aerosol_hair_spray_1.jpg',\n",
              "  '/content/drive/MyDrive/UCALGARY PROJECT/final_data/Refund/jhj'],\n",
              " ['/content/drive/MyDrive/UCALGARY PROJECT/Data/SMALL_DATA/Refund/aerosol_can_0.jpg',\n",
              "  '/content/drive/MyDrive/UCALGARY PROJECT/final_data/Refund/zxz']]"
            ]
          },
          "execution_count": 59,
          "metadata": {},
          "output_type": "execute_result"
        }
      ],
      "source": [
        "annotations"
      ],
      "id": "9YLJhsEm50YX"
    },
    {
      "cell_type": "code",
      "execution_count": null,
      "metadata": {
        "colab": {
          "base_uri": "https://localhost:8080/"
        },
        "id": "48e42633",
        "outputId": "a6b0b46e-7ef0-470e-9854-bb9fe452be77"
      },
      "outputs": [
        {
          "name": "stdout",
          "output_type": "stream",
          "text": [
            "['/content/drive/MyDrive/UCALGARY PROJECT/Data/SMALL_DATA/Refund/aerosol_hair_spray_1.jpg', '/content/drive/MyDrive/UCALGARY PROJECT/final_data/Refund/jhj']\n",
            "['/content/drive/MyDrive/UCALGARY PROJECT/Data/SMALL_DATA/Refund/aerosol_can_0.jpg', '/content/drive/MyDrive/UCALGARY PROJECT/final_data/Refund/zxz']\n"
          ]
        }
      ],
      "source": [
        "#When you finish classifying a batch, just run this cell\n",
        "\n",
        "directory= \"/content/drive/MyDrive/UCALGARY PROJECT/final_data\"\n",
        "new_note=[]\n",
        "try:\n",
        "    os.remove(tmp_image_name)\n",
        "except:\n",
        "    pass\n",
        "# Move the pictures to the right folder\n",
        "for note in annotations:\n",
        "    print(note)\n",
        "    new_note=os.path.join(directory, note[1])\n",
        "    try:\n",
        "        shutil.move(note[0], new_note)\n",
        "    except Exception as e:\n",
        "        err_str = str(e)\n",
        "        #just ignore the error if the file was already copied\n",
        "        if \"already\" in err_str:\n",
        "            pass"
      ],
      "id": "48e42633"
    },
    {
      "cell_type": "markdown",
      "metadata": {
        "id": "pba42bQfVn8H"
      },
      "source": [
        "**CODE TO EXTRACT NAME OF IMAGE AND SAVE IN A .TXT FILE**"
      ],
      "id": "pba42bQfVn8H"
    },
    {
      "cell_type": "markdown",
      "metadata": {
        "id": "uxHkuhAxHrvJ"
      },
      "source": [
        "**INFO**\n",
        "os.path.split() method in Python is used to Split the path name into a pair head and tail.\n",
        "In the above example ‘file.txt’ component of path name is tail and ‘/home/User/Desktop/’ is head."
      ],
      "id": "uxHkuhAxHrvJ"
    },
    {
      "cell_type": "markdown",
      "metadata": {
        "id": "aJkAJ1yIH-II"
      },
      "source": [
        "**INFO**\n",
        "os.path.splitext() method split the path name into a pair root and ext."
      ],
      "id": "aJkAJ1yIH-II"
    },
    {
      "cell_type": "code",
      "execution_count": null,
      "metadata": {
        "id": "ihwxNhsQQckU"
      },
      "outputs": [],
      "source": [
        "# Logic to classify files\n",
        "import os\n",
        "folder_name = \"/content/drive/MyDrive/UCALGARY PROJECT/data_for_test/Refund\"\n",
        "current_pics_in_local_folder =  get_current_pics_in_folder(folder_name)\n",
        "\n",
        "pic_with_folder=[]\n",
        "for pic in current_pics_in_local_folder:\n",
        "    pic_with_folder.append(folder_name + os.sep + pic)"
      ],
      "id": "ihwxNhsQQckU"
    },
    {
      "cell_type": "code",
      "execution_count": null,
      "metadata": {
        "colab": {
          "base_uri": "https://localhost:8080/"
        },
        "id": "RK3zpLCR_VMq",
        "outputId": "0cd97fbe-7ba9-4436-b3c0-86e31f4fe4f5"
      },
      "outputs": [
        {
          "name": "stdout",
          "output_type": "stream",
          "text": [
            "['aerosol_can_0', 'aerosol_hair_spray_1', 'air_freshener_80', 'aaa_battery3_142', 'aa_battery_143', 'aaa_battery_140', 'aaa_battery2_141', 'aa_battery_295', 'AA_batteries_331', 'aa_battery_425', 'AA_battery_476', 'aa_battery_568', 'aerosol_can_569', 'aa_battery_631', 'aerosol_metal_can_793', 'AAA_battery_792', 'butane_gas_can_7', ' battery_2', 'charger_9', ' broken_computer_mouse_5']\n"
          ]
        }
      ],
      "source": [
        "import os\n",
        "a='single_object'\n",
        "b='multiple_object'\n",
        "numbers = ['1', '2', '3', '4', '5', '6', '7', '8', '9','10']\n",
        "m=[]\n",
        "empty=[]\n",
        "final=[]\n",
        "for i in range(len(pic_with_folder)):\n",
        "  fname=pic_with_folder[i]\n",
        "  #splitting the path name into root and ext\n",
        "  name, ext = os.path.splitext(fname)\n",
        "  m.append(name)\n",
        "  #splitting the path name into a pair root and tail\n",
        "  name=os.path.split(name)\n",
        "  empty.append(name[1])\n",
        "\n",
        "  #Adding the 2nd label in the name of the image files\n",
        "  #empty[i]=a+'_'+empty[i]\n",
        "  #m=empty[i]\n",
        "\n",
        "  #splitting the name of the image based on _\n",
        "  X=os.path.basename(empty[i]).split('_')\n",
        "  #Removing the numerical value present in the end in all the images\n",
        "  X='_'.join(X[:-1])\n",
        "  #splitting the name of the image based on _\n",
        "  X=os.path.basename(X).split('_')\n",
        "  for var1 in X:\n",
        "    for var2 in numbers:\n",
        "      if var1 == var2:\n",
        "        X.remove(var1)\n",
        "\n",
        "  final.append(X)\n",
        "print(empty)"
      ],
      "id": "RK3zpLCR_VMq"
    },
    {
      "cell_type": "code",
      "execution_count": null,
      "metadata": {
        "colab": {
          "base_uri": "https://localhost:8080/"
        },
        "id": "tUQlbZqtqv3u",
        "outputId": "d8f49a74-a87b-4838-a052-37bcb1112b2e"
      },
      "outputs": [
        {
          "name": "stdout",
          "output_type": "stream",
          "text": [
            "['/content/drive/MyDrive/UCALGARY PROJECT/data_for_test/text_files/Refund/aerosol_can_0.txt', '/content/drive/MyDrive/UCALGARY PROJECT/data_for_test/text_files/Refund/aerosol_hair_spray_1.txt', '/content/drive/MyDrive/UCALGARY PROJECT/data_for_test/text_files/Refund/air_freshener_80.txt', '/content/drive/MyDrive/UCALGARY PROJECT/data_for_test/text_files/Refund/aaa_battery3_142.txt', '/content/drive/MyDrive/UCALGARY PROJECT/data_for_test/text_files/Refund/aa_battery_143.txt', '/content/drive/MyDrive/UCALGARY PROJECT/data_for_test/text_files/Refund/aaa_battery_140.txt', '/content/drive/MyDrive/UCALGARY PROJECT/data_for_test/text_files/Refund/aaa_battery2_141.txt', '/content/drive/MyDrive/UCALGARY PROJECT/data_for_test/text_files/Refund/aa_battery_295.txt', '/content/drive/MyDrive/UCALGARY PROJECT/data_for_test/text_files/Refund/AA_batteries_331.txt', '/content/drive/MyDrive/UCALGARY PROJECT/data_for_test/text_files/Refund/aa_battery_425.txt', '/content/drive/MyDrive/UCALGARY PROJECT/data_for_test/text_files/Refund/AA_battery_476.txt', '/content/drive/MyDrive/UCALGARY PROJECT/data_for_test/text_files/Refund/aa_battery_568.txt', '/content/drive/MyDrive/UCALGARY PROJECT/data_for_test/text_files/Refund/aerosol_can_569.txt', '/content/drive/MyDrive/UCALGARY PROJECT/data_for_test/text_files/Refund/aa_battery_631.txt', '/content/drive/MyDrive/UCALGARY PROJECT/data_for_test/text_files/Refund/aerosol_metal_can_793.txt', '/content/drive/MyDrive/UCALGARY PROJECT/data_for_test/text_files/Refund/AAA_battery_792.txt', '/content/drive/MyDrive/UCALGARY PROJECT/data_for_test/text_files/Refund/butane_gas_can_7.txt', '/content/drive/MyDrive/UCALGARY PROJECT/data_for_test/text_files/Refund/ battery_2.txt', '/content/drive/MyDrive/UCALGARY PROJECT/data_for_test/text_files/Refund/charger_9.txt', '/content/drive/MyDrive/UCALGARY PROJECT/data_for_test/text_files/Refund/ broken_computer_mouse_5.txt']\n"
          ]
        }
      ],
      "source": [
        "#PIECE OF CODE TO SAVE THE DESCRIPTION IN A SEPRATE TEXT FILE\n",
        "path=\"/content/drive/MyDrive/UCALGARY PROJECT/data_for_test/text_files/Refund/\"\n",
        "completeName=[]\n",
        "for i in range(len(m)):\n",
        "  completeName.append(os.path.join(path+empty[i]+\".txt\"))\n",
        "print(completeName)\n",
        "for i in range(len(completeName)):\n",
        "  with open(completeName[i], \"w\") as output:\n",
        "    #output.write(\"label_1: \")\n",
        "    for j in final[i]:\n",
        "      output.write(str(j) + \" \")"
      ],
      "id": "tUQlbZqtqv3u"
    },
    {
      "cell_type": "code",
      "execution_count": null,
      "metadata": {
        "colab": {
          "base_uri": "https://localhost:8080/"
        },
        "id": "lidWJ-Kc6UQD",
        "outputId": "8367c5b8-7b9e-4dd2-d5e5-416d14c3d0c0"
      },
      "outputs": [
        {
          "name": "stdout",
          "output_type": "stream",
          "text": [
            "/content/drive/MyDrive/UCALGARY PROJECT/final_data/txt_files/Green\n"
          ]
        }
      ],
      "source": [
        "#PIECE OF CODE TO REMOVE ALL THE FILES OF SAME EXTENSION\n",
        "\n",
        "# %cd /content/drive/MyDrive/UCALGARY PROJECT/final_data/txt_files/Green\n",
        "# !rm -r *.txt"
      ],
      "id": "lidWJ-Kc6UQD"
    }
  ],
  "metadata": {
    "accelerator": "GPU",
    "colab": {
      "collapsed_sections": [
        "8Q3nTGArN-y6",
        "65ZmplbtA3YN",
        "N-LVNv0aPw3d",
        "WIefAl_hpdk_",
        "1IJf2wGSpsll",
        "9bp1E0Jusb-W",
        "GJ0XoyFAjjy0",
        "RGWH1wKIvpUn",
        "2FZm0K1o4uBF",
        "b00eoUTnBTVZ"
      ],
      "provenance": []
    },
    "kernelspec": {
      "display_name": "Python 3",
      "name": "python3"
    },
    "language_info": {
      "codemirror_mode": {
        "name": "ipython",
        "version": 3
      },
      "file_extension": ".py",
      "mimetype": "text/x-python",
      "name": "python",
      "nbconvert_exporter": "python",
      "pygments_lexer": "ipython3",
      "version": "3.10.6"
    },
    "widgets": {
      "application/vnd.jupyter.widget-state+json": {
        "933b58cbb9f946549a6da33bd5632062": {
          "model_module": "@jupyter-widgets/controls",
          "model_name": "HTMLModel",
          "model_module_version": "1.5.0",
          "state": {
            "_dom_classes": [],
            "_model_module": "@jupyter-widgets/controls",
            "_model_module_version": "1.5.0",
            "_model_name": "HTMLModel",
            "_view_count": null,
            "_view_module": "@jupyter-widgets/controls",
            "_view_module_version": "1.5.0",
            "_view_name": "HTMLView",
            "description": "",
            "description_tooltip": null,
            "layout": "IPY_MODEL_1661a43eb73e4514a1a0e1c4948dc801",
            "placeholder": "​",
            "style": "IPY_MODEL_c3213e04e28d432a97a1335930c725f5",
            "value": "0 examples annotated, 140 examples left"
          }
        },
        "1661a43eb73e4514a1a0e1c4948dc801": {
          "model_module": "@jupyter-widgets/base",
          "model_name": "LayoutModel",
          "model_module_version": "1.2.0",
          "state": {
            "_model_module": "@jupyter-widgets/base",
            "_model_module_version": "1.2.0",
            "_model_name": "LayoutModel",
            "_view_count": null,
            "_view_module": "@jupyter-widgets/base",
            "_view_module_version": "1.2.0",
            "_view_name": "LayoutView",
            "align_content": null,
            "align_items": null,
            "align_self": null,
            "border": null,
            "bottom": null,
            "display": null,
            "flex": null,
            "flex_flow": null,
            "grid_area": null,
            "grid_auto_columns": null,
            "grid_auto_flow": null,
            "grid_auto_rows": null,
            "grid_column": null,
            "grid_gap": null,
            "grid_row": null,
            "grid_template_areas": null,
            "grid_template_columns": null,
            "grid_template_rows": null,
            "height": null,
            "justify_content": null,
            "justify_items": null,
            "left": null,
            "margin": null,
            "max_height": null,
            "max_width": null,
            "min_height": null,
            "min_width": null,
            "object_fit": null,
            "object_position": null,
            "order": null,
            "overflow": null,
            "overflow_x": null,
            "overflow_y": null,
            "padding": null,
            "right": null,
            "top": null,
            "visibility": null,
            "width": null
          }
        },
        "c3213e04e28d432a97a1335930c725f5": {
          "model_module": "@jupyter-widgets/controls",
          "model_name": "DescriptionStyleModel",
          "model_module_version": "1.5.0",
          "state": {
            "_model_module": "@jupyter-widgets/controls",
            "_model_module_version": "1.5.0",
            "_model_name": "DescriptionStyleModel",
            "_view_count": null,
            "_view_module": "@jupyter-widgets/base",
            "_view_module_version": "1.2.0",
            "_view_name": "StyleView",
            "description_width": ""
          }
        },
        "7776c79096804abab9528eb405ab54b4": {
          "model_module": "@jupyter-widgets/controls",
          "model_name": "HBoxModel",
          "model_module_version": "1.5.0",
          "state": {
            "_dom_classes": [],
            "_model_module": "@jupyter-widgets/controls",
            "_model_module_version": "1.5.0",
            "_model_name": "HBoxModel",
            "_view_count": null,
            "_view_module": "@jupyter-widgets/controls",
            "_view_module_version": "1.5.0",
            "_view_name": "HBoxView",
            "box_style": "",
            "children": [
              "IPY_MODEL_f047b090738d49818964bdbee921a217",
              "IPY_MODEL_2d9209115f0d4c0cbbc000888ccdc5dd",
              "IPY_MODEL_8acabc139f744d9fb56203041c6a1316",
              "IPY_MODEL_e302fd59f5de49d290332d65b5ac24ce",
              "IPY_MODEL_bd999bd9e63f4f01bbc59eafd45ef613"
            ],
            "layout": "IPY_MODEL_69692c3b1b9140ccafed4b8bb43b4693"
          }
        },
        "f047b090738d49818964bdbee921a217": {
          "model_module": "@jupyter-widgets/controls",
          "model_name": "ButtonModel",
          "model_module_version": "1.5.0",
          "state": {
            "_dom_classes": [],
            "_model_module": "@jupyter-widgets/controls",
            "_model_module_version": "1.5.0",
            "_model_name": "ButtonModel",
            "_view_count": null,
            "_view_module": "@jupyter-widgets/controls",
            "_view_module_version": "1.5.0",
            "_view_name": "ButtonView",
            "button_style": "",
            "description": "Black",
            "disabled": false,
            "icon": "",
            "layout": "IPY_MODEL_e5bf1dc0fb004801b181a7b13ab93a1c",
            "style": "IPY_MODEL_a9ff532d32594776894b9f62f11b0b22",
            "tooltip": ""
          }
        },
        "2d9209115f0d4c0cbbc000888ccdc5dd": {
          "model_module": "@jupyter-widgets/controls",
          "model_name": "ButtonModel",
          "model_module_version": "1.5.0",
          "state": {
            "_dom_classes": [],
            "_model_module": "@jupyter-widgets/controls",
            "_model_module_version": "1.5.0",
            "_model_name": "ButtonModel",
            "_view_count": null,
            "_view_module": "@jupyter-widgets/controls",
            "_view_module_version": "1.5.0",
            "_view_name": "ButtonView",
            "button_style": "",
            "description": "Green",
            "disabled": false,
            "icon": "",
            "layout": "IPY_MODEL_ec84f6b58391447d89d700cbf28fd6d0",
            "style": "IPY_MODEL_02826a3b39614bdca1122606326eb7f5",
            "tooltip": ""
          }
        },
        "8acabc139f744d9fb56203041c6a1316": {
          "model_module": "@jupyter-widgets/controls",
          "model_name": "ButtonModel",
          "model_module_version": "1.5.0",
          "state": {
            "_dom_classes": [],
            "_model_module": "@jupyter-widgets/controls",
            "_model_module_version": "1.5.0",
            "_model_name": "ButtonModel",
            "_view_count": null,
            "_view_module": "@jupyter-widgets/controls",
            "_view_module_version": "1.5.0",
            "_view_name": "ButtonView",
            "button_style": "",
            "description": "Blue",
            "disabled": false,
            "icon": "",
            "layout": "IPY_MODEL_fe8ad76c0e99409c8cbd1ec82bf95526",
            "style": "IPY_MODEL_e68ef69a1de242f08e9c85584d65ae21",
            "tooltip": ""
          }
        },
        "e302fd59f5de49d290332d65b5ac24ce": {
          "model_module": "@jupyter-widgets/controls",
          "model_name": "ButtonModel",
          "model_module_version": "1.5.0",
          "state": {
            "_dom_classes": [],
            "_model_module": "@jupyter-widgets/controls",
            "_model_module_version": "1.5.0",
            "_model_name": "ButtonModel",
            "_view_count": null,
            "_view_module": "@jupyter-widgets/controls",
            "_view_module_version": "1.5.0",
            "_view_name": "ButtonView",
            "button_style": "",
            "description": "Refund",
            "disabled": false,
            "icon": "",
            "layout": "IPY_MODEL_d765f526f86c473aa9802cae5fa602ec",
            "style": "IPY_MODEL_863dd14bbb364977a0549c62030c570f",
            "tooltip": ""
          }
        },
        "bd999bd9e63f4f01bbc59eafd45ef613": {
          "model_module": "@jupyter-widgets/controls",
          "model_name": "ButtonModel",
          "model_module_version": "1.5.0",
          "state": {
            "_dom_classes": [],
            "_model_module": "@jupyter-widgets/controls",
            "_model_module_version": "1.5.0",
            "_model_name": "ButtonModel",
            "_view_count": null,
            "_view_module": "@jupyter-widgets/controls",
            "_view_module_version": "1.5.0",
            "_view_name": "ButtonView",
            "button_style": "",
            "description": "skip",
            "disabled": false,
            "icon": "",
            "layout": "IPY_MODEL_0770389a41044d7c9a0d42d9eb9ecb15",
            "style": "IPY_MODEL_d556b3522d824198b1e38940aeee394c",
            "tooltip": ""
          }
        },
        "69692c3b1b9140ccafed4b8bb43b4693": {
          "model_module": "@jupyter-widgets/base",
          "model_name": "LayoutModel",
          "model_module_version": "1.2.0",
          "state": {
            "_model_module": "@jupyter-widgets/base",
            "_model_module_version": "1.2.0",
            "_model_name": "LayoutModel",
            "_view_count": null,
            "_view_module": "@jupyter-widgets/base",
            "_view_module_version": "1.2.0",
            "_view_name": "LayoutView",
            "align_content": null,
            "align_items": null,
            "align_self": null,
            "border": null,
            "bottom": null,
            "display": null,
            "flex": null,
            "flex_flow": null,
            "grid_area": null,
            "grid_auto_columns": null,
            "grid_auto_flow": null,
            "grid_auto_rows": null,
            "grid_column": null,
            "grid_gap": null,
            "grid_row": null,
            "grid_template_areas": null,
            "grid_template_columns": null,
            "grid_template_rows": null,
            "height": null,
            "justify_content": null,
            "justify_items": null,
            "left": null,
            "margin": null,
            "max_height": null,
            "max_width": null,
            "min_height": null,
            "min_width": null,
            "object_fit": null,
            "object_position": null,
            "order": null,
            "overflow": null,
            "overflow_x": null,
            "overflow_y": null,
            "padding": null,
            "right": null,
            "top": null,
            "visibility": null,
            "width": null
          }
        },
        "e5bf1dc0fb004801b181a7b13ab93a1c": {
          "model_module": "@jupyter-widgets/base",
          "model_name": "LayoutModel",
          "model_module_version": "1.2.0",
          "state": {
            "_model_module": "@jupyter-widgets/base",
            "_model_module_version": "1.2.0",
            "_model_name": "LayoutModel",
            "_view_count": null,
            "_view_module": "@jupyter-widgets/base",
            "_view_module_version": "1.2.0",
            "_view_name": "LayoutView",
            "align_content": null,
            "align_items": null,
            "align_self": null,
            "border": null,
            "bottom": null,
            "display": null,
            "flex": null,
            "flex_flow": null,
            "grid_area": null,
            "grid_auto_columns": null,
            "grid_auto_flow": null,
            "grid_auto_rows": null,
            "grid_column": null,
            "grid_gap": null,
            "grid_row": null,
            "grid_template_areas": null,
            "grid_template_columns": null,
            "grid_template_rows": null,
            "height": null,
            "justify_content": null,
            "justify_items": null,
            "left": null,
            "margin": null,
            "max_height": null,
            "max_width": null,
            "min_height": null,
            "min_width": null,
            "object_fit": null,
            "object_position": null,
            "order": null,
            "overflow": null,
            "overflow_x": null,
            "overflow_y": null,
            "padding": null,
            "right": null,
            "top": null,
            "visibility": null,
            "width": null
          }
        },
        "a9ff532d32594776894b9f62f11b0b22": {
          "model_module": "@jupyter-widgets/controls",
          "model_name": "ButtonStyleModel",
          "model_module_version": "1.5.0",
          "state": {
            "_model_module": "@jupyter-widgets/controls",
            "_model_module_version": "1.5.0",
            "_model_name": "ButtonStyleModel",
            "_view_count": null,
            "_view_module": "@jupyter-widgets/base",
            "_view_module_version": "1.2.0",
            "_view_name": "StyleView",
            "button_color": null,
            "font_weight": ""
          }
        },
        "ec84f6b58391447d89d700cbf28fd6d0": {
          "model_module": "@jupyter-widgets/base",
          "model_name": "LayoutModel",
          "model_module_version": "1.2.0",
          "state": {
            "_model_module": "@jupyter-widgets/base",
            "_model_module_version": "1.2.0",
            "_model_name": "LayoutModel",
            "_view_count": null,
            "_view_module": "@jupyter-widgets/base",
            "_view_module_version": "1.2.0",
            "_view_name": "LayoutView",
            "align_content": null,
            "align_items": null,
            "align_self": null,
            "border": null,
            "bottom": null,
            "display": null,
            "flex": null,
            "flex_flow": null,
            "grid_area": null,
            "grid_auto_columns": null,
            "grid_auto_flow": null,
            "grid_auto_rows": null,
            "grid_column": null,
            "grid_gap": null,
            "grid_row": null,
            "grid_template_areas": null,
            "grid_template_columns": null,
            "grid_template_rows": null,
            "height": null,
            "justify_content": null,
            "justify_items": null,
            "left": null,
            "margin": null,
            "max_height": null,
            "max_width": null,
            "min_height": null,
            "min_width": null,
            "object_fit": null,
            "object_position": null,
            "order": null,
            "overflow": null,
            "overflow_x": null,
            "overflow_y": null,
            "padding": null,
            "right": null,
            "top": null,
            "visibility": null,
            "width": null
          }
        },
        "02826a3b39614bdca1122606326eb7f5": {
          "model_module": "@jupyter-widgets/controls",
          "model_name": "ButtonStyleModel",
          "model_module_version": "1.5.0",
          "state": {
            "_model_module": "@jupyter-widgets/controls",
            "_model_module_version": "1.5.0",
            "_model_name": "ButtonStyleModel",
            "_view_count": null,
            "_view_module": "@jupyter-widgets/base",
            "_view_module_version": "1.2.0",
            "_view_name": "StyleView",
            "button_color": null,
            "font_weight": ""
          }
        },
        "fe8ad76c0e99409c8cbd1ec82bf95526": {
          "model_module": "@jupyter-widgets/base",
          "model_name": "LayoutModel",
          "model_module_version": "1.2.0",
          "state": {
            "_model_module": "@jupyter-widgets/base",
            "_model_module_version": "1.2.0",
            "_model_name": "LayoutModel",
            "_view_count": null,
            "_view_module": "@jupyter-widgets/base",
            "_view_module_version": "1.2.0",
            "_view_name": "LayoutView",
            "align_content": null,
            "align_items": null,
            "align_self": null,
            "border": null,
            "bottom": null,
            "display": null,
            "flex": null,
            "flex_flow": null,
            "grid_area": null,
            "grid_auto_columns": null,
            "grid_auto_flow": null,
            "grid_auto_rows": null,
            "grid_column": null,
            "grid_gap": null,
            "grid_row": null,
            "grid_template_areas": null,
            "grid_template_columns": null,
            "grid_template_rows": null,
            "height": null,
            "justify_content": null,
            "justify_items": null,
            "left": null,
            "margin": null,
            "max_height": null,
            "max_width": null,
            "min_height": null,
            "min_width": null,
            "object_fit": null,
            "object_position": null,
            "order": null,
            "overflow": null,
            "overflow_x": null,
            "overflow_y": null,
            "padding": null,
            "right": null,
            "top": null,
            "visibility": null,
            "width": null
          }
        },
        "e68ef69a1de242f08e9c85584d65ae21": {
          "model_module": "@jupyter-widgets/controls",
          "model_name": "ButtonStyleModel",
          "model_module_version": "1.5.0",
          "state": {
            "_model_module": "@jupyter-widgets/controls",
            "_model_module_version": "1.5.0",
            "_model_name": "ButtonStyleModel",
            "_view_count": null,
            "_view_module": "@jupyter-widgets/base",
            "_view_module_version": "1.2.0",
            "_view_name": "StyleView",
            "button_color": null,
            "font_weight": ""
          }
        },
        "d765f526f86c473aa9802cae5fa602ec": {
          "model_module": "@jupyter-widgets/base",
          "model_name": "LayoutModel",
          "model_module_version": "1.2.0",
          "state": {
            "_model_module": "@jupyter-widgets/base",
            "_model_module_version": "1.2.0",
            "_model_name": "LayoutModel",
            "_view_count": null,
            "_view_module": "@jupyter-widgets/base",
            "_view_module_version": "1.2.0",
            "_view_name": "LayoutView",
            "align_content": null,
            "align_items": null,
            "align_self": null,
            "border": null,
            "bottom": null,
            "display": null,
            "flex": null,
            "flex_flow": null,
            "grid_area": null,
            "grid_auto_columns": null,
            "grid_auto_flow": null,
            "grid_auto_rows": null,
            "grid_column": null,
            "grid_gap": null,
            "grid_row": null,
            "grid_template_areas": null,
            "grid_template_columns": null,
            "grid_template_rows": null,
            "height": null,
            "justify_content": null,
            "justify_items": null,
            "left": null,
            "margin": null,
            "max_height": null,
            "max_width": null,
            "min_height": null,
            "min_width": null,
            "object_fit": null,
            "object_position": null,
            "order": null,
            "overflow": null,
            "overflow_x": null,
            "overflow_y": null,
            "padding": null,
            "right": null,
            "top": null,
            "visibility": null,
            "width": null
          }
        },
        "863dd14bbb364977a0549c62030c570f": {
          "model_module": "@jupyter-widgets/controls",
          "model_name": "ButtonStyleModel",
          "model_module_version": "1.5.0",
          "state": {
            "_model_module": "@jupyter-widgets/controls",
            "_model_module_version": "1.5.0",
            "_model_name": "ButtonStyleModel",
            "_view_count": null,
            "_view_module": "@jupyter-widgets/base",
            "_view_module_version": "1.2.0",
            "_view_name": "StyleView",
            "button_color": null,
            "font_weight": ""
          }
        },
        "0770389a41044d7c9a0d42d9eb9ecb15": {
          "model_module": "@jupyter-widgets/base",
          "model_name": "LayoutModel",
          "model_module_version": "1.2.0",
          "state": {
            "_model_module": "@jupyter-widgets/base",
            "_model_module_version": "1.2.0",
            "_model_name": "LayoutModel",
            "_view_count": null,
            "_view_module": "@jupyter-widgets/base",
            "_view_module_version": "1.2.0",
            "_view_name": "LayoutView",
            "align_content": null,
            "align_items": null,
            "align_self": null,
            "border": null,
            "bottom": null,
            "display": null,
            "flex": null,
            "flex_flow": null,
            "grid_area": null,
            "grid_auto_columns": null,
            "grid_auto_flow": null,
            "grid_auto_rows": null,
            "grid_column": null,
            "grid_gap": null,
            "grid_row": null,
            "grid_template_areas": null,
            "grid_template_columns": null,
            "grid_template_rows": null,
            "height": null,
            "justify_content": null,
            "justify_items": null,
            "left": null,
            "margin": null,
            "max_height": null,
            "max_width": null,
            "min_height": null,
            "min_width": null,
            "object_fit": null,
            "object_position": null,
            "order": null,
            "overflow": null,
            "overflow_x": null,
            "overflow_y": null,
            "padding": null,
            "right": null,
            "top": null,
            "visibility": null,
            "width": null
          }
        },
        "d556b3522d824198b1e38940aeee394c": {
          "model_module": "@jupyter-widgets/controls",
          "model_name": "ButtonStyleModel",
          "model_module_version": "1.5.0",
          "state": {
            "_model_module": "@jupyter-widgets/controls",
            "_model_module_version": "1.5.0",
            "_model_name": "ButtonStyleModel",
            "_view_count": null,
            "_view_module": "@jupyter-widgets/base",
            "_view_module_version": "1.2.0",
            "_view_name": "StyleView",
            "button_color": null,
            "font_weight": ""
          }
        },
        "c95c248f6b7c4f82bb8ffe808b8ba6c7": {
          "model_module": "@jupyter-widgets/output",
          "model_name": "OutputModel",
          "model_module_version": "1.0.0",
          "state": {
            "_dom_classes": [],
            "_model_module": "@jupyter-widgets/output",
            "_model_module_version": "1.0.0",
            "_model_name": "OutputModel",
            "_view_count": null,
            "_view_module": "@jupyter-widgets/output",
            "_view_module_version": "1.0.0",
            "_view_name": "OutputView",
            "layout": "IPY_MODEL_07f012a666aa4281a07ef6dab0bb98c8",
            "msg_id": "",
            "outputs": [
              {
                "output_type": "stream",
                "name": "stdout",
                "text": [
                  "/content/drive/MyDrive/UCALGARY PROJECT/Refund/car_oil_container_97.jpg\n"
                ]
              },
              {
                "output_type": "display_data",
                "data": {
                  "text/plain": "<Figure size 640x480 with 1 Axes>",
                  "image/png": "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\n"
                },
                "metadata": {}
              }
            ]
          }
        },
        "07f012a666aa4281a07ef6dab0bb98c8": {
          "model_module": "@jupyter-widgets/base",
          "model_name": "LayoutModel",
          "model_module_version": "1.2.0",
          "state": {
            "_model_module": "@jupyter-widgets/base",
            "_model_module_version": "1.2.0",
            "_model_name": "LayoutModel",
            "_view_count": null,
            "_view_module": "@jupyter-widgets/base",
            "_view_module_version": "1.2.0",
            "_view_name": "LayoutView",
            "align_content": null,
            "align_items": null,
            "align_self": null,
            "border": null,
            "bottom": null,
            "display": null,
            "flex": null,
            "flex_flow": null,
            "grid_area": null,
            "grid_auto_columns": null,
            "grid_auto_flow": null,
            "grid_auto_rows": null,
            "grid_column": null,
            "grid_gap": null,
            "grid_row": null,
            "grid_template_areas": null,
            "grid_template_columns": null,
            "grid_template_rows": null,
            "height": null,
            "justify_content": null,
            "justify_items": null,
            "left": null,
            "margin": null,
            "max_height": null,
            "max_width": null,
            "min_height": null,
            "min_width": null,
            "object_fit": null,
            "object_position": null,
            "order": null,
            "overflow": null,
            "overflow_x": null,
            "overflow_y": null,
            "padding": null,
            "right": null,
            "top": null,
            "visibility": null,
            "width": null
          }
        },
        "f3e0f6044ba14376bdc0cb845687588e": {
          "model_module": "@jupyter-widgets/controls",
          "model_name": "HTMLModel",
          "model_module_version": "1.5.0",
          "state": {
            "_dom_classes": [],
            "_model_module": "@jupyter-widgets/controls",
            "_model_module_version": "1.5.0",
            "_model_name": "HTMLModel",
            "_view_count": null,
            "_view_module": "@jupyter-widgets/controls",
            "_view_module_version": "1.5.0",
            "_view_name": "HTMLView",
            "description": "",
            "description_tooltip": null,
            "layout": "IPY_MODEL_535dccfae9374a0386ae71b222758aa9",
            "placeholder": "​",
            "style": "IPY_MODEL_55374cfdd20944e88d0f8b6f14be6e7d",
            "value": "0 examples annotated, 141 examples left"
          }
        },
        "535dccfae9374a0386ae71b222758aa9": {
          "model_module": "@jupyter-widgets/base",
          "model_name": "LayoutModel",
          "model_module_version": "1.2.0",
          "state": {
            "_model_module": "@jupyter-widgets/base",
            "_model_module_version": "1.2.0",
            "_model_name": "LayoutModel",
            "_view_count": null,
            "_view_module": "@jupyter-widgets/base",
            "_view_module_version": "1.2.0",
            "_view_name": "LayoutView",
            "align_content": null,
            "align_items": null,
            "align_self": null,
            "border": null,
            "bottom": null,
            "display": null,
            "flex": null,
            "flex_flow": null,
            "grid_area": null,
            "grid_auto_columns": null,
            "grid_auto_flow": null,
            "grid_auto_rows": null,
            "grid_column": null,
            "grid_gap": null,
            "grid_row": null,
            "grid_template_areas": null,
            "grid_template_columns": null,
            "grid_template_rows": null,
            "height": null,
            "justify_content": null,
            "justify_items": null,
            "left": null,
            "margin": null,
            "max_height": null,
            "max_width": null,
            "min_height": null,
            "min_width": null,
            "object_fit": null,
            "object_position": null,
            "order": null,
            "overflow": null,
            "overflow_x": null,
            "overflow_y": null,
            "padding": null,
            "right": null,
            "top": null,
            "visibility": null,
            "width": null
          }
        },
        "55374cfdd20944e88d0f8b6f14be6e7d": {
          "model_module": "@jupyter-widgets/controls",
          "model_name": "DescriptionStyleModel",
          "model_module_version": "1.5.0",
          "state": {
            "_model_module": "@jupyter-widgets/controls",
            "_model_module_version": "1.5.0",
            "_model_name": "DescriptionStyleModel",
            "_view_count": null,
            "_view_module": "@jupyter-widgets/base",
            "_view_module_version": "1.2.0",
            "_view_name": "StyleView",
            "description_width": ""
          }
        },
        "cbc64d7f41554f97b1a99dc1d1737377": {
          "model_module": "@jupyter-widgets/controls",
          "model_name": "TextareaModel",
          "model_module_version": "1.5.0",
          "state": {
            "_dom_classes": [],
            "_model_module": "@jupyter-widgets/controls",
            "_model_module_version": "1.5.0",
            "_model_name": "TextareaModel",
            "_view_count": null,
            "_view_module": "@jupyter-widgets/controls",
            "_view_module_version": "1.5.0",
            "_view_name": "TextareaView",
            "continuous_update": true,
            "description": "",
            "description_tooltip": null,
            "disabled": false,
            "layout": "IPY_MODEL_0585adb62ad64daca84e9a2e8caf4486",
            "placeholder": "​",
            "rows": null,
            "style": "IPY_MODEL_b01f1e2fba044d2ab67531a75dc7a584",
            "value": ""
          }
        },
        "0585adb62ad64daca84e9a2e8caf4486": {
          "model_module": "@jupyter-widgets/base",
          "model_name": "LayoutModel",
          "model_module_version": "1.2.0",
          "state": {
            "_model_module": "@jupyter-widgets/base",
            "_model_module_version": "1.2.0",
            "_model_name": "LayoutModel",
            "_view_count": null,
            "_view_module": "@jupyter-widgets/base",
            "_view_module_version": "1.2.0",
            "_view_name": "LayoutView",
            "align_content": null,
            "align_items": null,
            "align_self": null,
            "border": null,
            "bottom": null,
            "display": null,
            "flex": null,
            "flex_flow": null,
            "grid_area": null,
            "grid_auto_columns": null,
            "grid_auto_flow": null,
            "grid_auto_rows": null,
            "grid_column": null,
            "grid_gap": null,
            "grid_row": null,
            "grid_template_areas": null,
            "grid_template_columns": null,
            "grid_template_rows": null,
            "height": null,
            "justify_content": null,
            "justify_items": null,
            "left": null,
            "margin": null,
            "max_height": null,
            "max_width": null,
            "min_height": null,
            "min_width": null,
            "object_fit": null,
            "object_position": null,
            "order": null,
            "overflow": null,
            "overflow_x": null,
            "overflow_y": null,
            "padding": null,
            "right": null,
            "top": null,
            "visibility": null,
            "width": null
          }
        },
        "b01f1e2fba044d2ab67531a75dc7a584": {
          "model_module": "@jupyter-widgets/controls",
          "model_name": "DescriptionStyleModel",
          "model_module_version": "1.5.0",
          "state": {
            "_model_module": "@jupyter-widgets/controls",
            "_model_module_version": "1.5.0",
            "_model_name": "DescriptionStyleModel",
            "_view_count": null,
            "_view_module": "@jupyter-widgets/base",
            "_view_module_version": "1.2.0",
            "_view_name": "StyleView",
            "description_width": ""
          }
        },
        "c7e13c401ec3497a8341c0660ad970bc": {
          "model_module": "@jupyter-widgets/controls",
          "model_name": "HBoxModel",
          "model_module_version": "1.5.0",
          "state": {
            "_dom_classes": [],
            "_model_module": "@jupyter-widgets/controls",
            "_model_module_version": "1.5.0",
            "_model_name": "HBoxModel",
            "_view_count": null,
            "_view_module": "@jupyter-widgets/controls",
            "_view_module_version": "1.5.0",
            "_view_name": "HBoxView",
            "box_style": "",
            "children": [
              "IPY_MODEL_72cd5afe21aa4c84a71130118aa65b26",
              "IPY_MODEL_a907785a37c54652bcb595f17519c77e"
            ],
            "layout": "IPY_MODEL_8689082cf95f4cfea1bb33ae951f3398"
          }
        },
        "72cd5afe21aa4c84a71130118aa65b26": {
          "model_module": "@jupyter-widgets/controls",
          "model_name": "ButtonModel",
          "model_module_version": "1.5.0",
          "state": {
            "_dom_classes": [],
            "_model_module": "@jupyter-widgets/controls",
            "_model_module_version": "1.5.0",
            "_model_name": "ButtonModel",
            "_view_count": null,
            "_view_module": "@jupyter-widgets/controls",
            "_view_module_version": "1.5.0",
            "_view_name": "ButtonView",
            "button_style": "",
            "description": "submit",
            "disabled": false,
            "icon": "",
            "layout": "IPY_MODEL_dc6134e0e7a34f5ea8aaf70a7c155248",
            "style": "IPY_MODEL_7d8927e14d4e4e0abcdc78f928d0c8a8",
            "tooltip": ""
          }
        },
        "a907785a37c54652bcb595f17519c77e": {
          "model_module": "@jupyter-widgets/controls",
          "model_name": "ButtonModel",
          "model_module_version": "1.5.0",
          "state": {
            "_dom_classes": [],
            "_model_module": "@jupyter-widgets/controls",
            "_model_module_version": "1.5.0",
            "_model_name": "ButtonModel",
            "_view_count": null,
            "_view_module": "@jupyter-widgets/controls",
            "_view_module_version": "1.5.0",
            "_view_name": "ButtonView",
            "button_style": "",
            "description": "skip",
            "disabled": false,
            "icon": "",
            "layout": "IPY_MODEL_afe19e4f62ba4d54af539db464d33e3f",
            "style": "IPY_MODEL_884f40c08a3b489d9badc3ad6ee9393e",
            "tooltip": ""
          }
        },
        "8689082cf95f4cfea1bb33ae951f3398": {
          "model_module": "@jupyter-widgets/base",
          "model_name": "LayoutModel",
          "model_module_version": "1.2.0",
          "state": {
            "_model_module": "@jupyter-widgets/base",
            "_model_module_version": "1.2.0",
            "_model_name": "LayoutModel",
            "_view_count": null,
            "_view_module": "@jupyter-widgets/base",
            "_view_module_version": "1.2.0",
            "_view_name": "LayoutView",
            "align_content": null,
            "align_items": null,
            "align_self": null,
            "border": null,
            "bottom": null,
            "display": null,
            "flex": null,
            "flex_flow": null,
            "grid_area": null,
            "grid_auto_columns": null,
            "grid_auto_flow": null,
            "grid_auto_rows": null,
            "grid_column": null,
            "grid_gap": null,
            "grid_row": null,
            "grid_template_areas": null,
            "grid_template_columns": null,
            "grid_template_rows": null,
            "height": null,
            "justify_content": null,
            "justify_items": null,
            "left": null,
            "margin": null,
            "max_height": null,
            "max_width": null,
            "min_height": null,
            "min_width": null,
            "object_fit": null,
            "object_position": null,
            "order": null,
            "overflow": null,
            "overflow_x": null,
            "overflow_y": null,
            "padding": null,
            "right": null,
            "top": null,
            "visibility": null,
            "width": null
          }
        },
        "dc6134e0e7a34f5ea8aaf70a7c155248": {
          "model_module": "@jupyter-widgets/base",
          "model_name": "LayoutModel",
          "model_module_version": "1.2.0",
          "state": {
            "_model_module": "@jupyter-widgets/base",
            "_model_module_version": "1.2.0",
            "_model_name": "LayoutModel",
            "_view_count": null,
            "_view_module": "@jupyter-widgets/base",
            "_view_module_version": "1.2.0",
            "_view_name": "LayoutView",
            "align_content": null,
            "align_items": null,
            "align_self": null,
            "border": null,
            "bottom": null,
            "display": null,
            "flex": null,
            "flex_flow": null,
            "grid_area": null,
            "grid_auto_columns": null,
            "grid_auto_flow": null,
            "grid_auto_rows": null,
            "grid_column": null,
            "grid_gap": null,
            "grid_row": null,
            "grid_template_areas": null,
            "grid_template_columns": null,
            "grid_template_rows": null,
            "height": null,
            "justify_content": null,
            "justify_items": null,
            "left": null,
            "margin": null,
            "max_height": null,
            "max_width": null,
            "min_height": null,
            "min_width": null,
            "object_fit": null,
            "object_position": null,
            "order": null,
            "overflow": null,
            "overflow_x": null,
            "overflow_y": null,
            "padding": null,
            "right": null,
            "top": null,
            "visibility": null,
            "width": null
          }
        },
        "7d8927e14d4e4e0abcdc78f928d0c8a8": {
          "model_module": "@jupyter-widgets/controls",
          "model_name": "ButtonStyleModel",
          "model_module_version": "1.5.0",
          "state": {
            "_model_module": "@jupyter-widgets/controls",
            "_model_module_version": "1.5.0",
            "_model_name": "ButtonStyleModel",
            "_view_count": null,
            "_view_module": "@jupyter-widgets/base",
            "_view_module_version": "1.2.0",
            "_view_name": "StyleView",
            "button_color": null,
            "font_weight": ""
          }
        },
        "afe19e4f62ba4d54af539db464d33e3f": {
          "model_module": "@jupyter-widgets/base",
          "model_name": "LayoutModel",
          "model_module_version": "1.2.0",
          "state": {
            "_model_module": "@jupyter-widgets/base",
            "_model_module_version": "1.2.0",
            "_model_name": "LayoutModel",
            "_view_count": null,
            "_view_module": "@jupyter-widgets/base",
            "_view_module_version": "1.2.0",
            "_view_name": "LayoutView",
            "align_content": null,
            "align_items": null,
            "align_self": null,
            "border": null,
            "bottom": null,
            "display": null,
            "flex": null,
            "flex_flow": null,
            "grid_area": null,
            "grid_auto_columns": null,
            "grid_auto_flow": null,
            "grid_auto_rows": null,
            "grid_column": null,
            "grid_gap": null,
            "grid_row": null,
            "grid_template_areas": null,
            "grid_template_columns": null,
            "grid_template_rows": null,
            "height": null,
            "justify_content": null,
            "justify_items": null,
            "left": null,
            "margin": null,
            "max_height": null,
            "max_width": null,
            "min_height": null,
            "min_width": null,
            "object_fit": null,
            "object_position": null,
            "order": null,
            "overflow": null,
            "overflow_x": null,
            "overflow_y": null,
            "padding": null,
            "right": null,
            "top": null,
            "visibility": null,
            "width": null
          }
        },
        "884f40c08a3b489d9badc3ad6ee9393e": {
          "model_module": "@jupyter-widgets/controls",
          "model_name": "ButtonStyleModel",
          "model_module_version": "1.5.0",
          "state": {
            "_model_module": "@jupyter-widgets/controls",
            "_model_module_version": "1.5.0",
            "_model_name": "ButtonStyleModel",
            "_view_count": null,
            "_view_module": "@jupyter-widgets/base",
            "_view_module_version": "1.2.0",
            "_view_name": "StyleView",
            "button_color": null,
            "font_weight": ""
          }
        },
        "759c042b627342ee835ecb6811cd0259": {
          "model_module": "@jupyter-widgets/output",
          "model_name": "OutputModel",
          "model_module_version": "1.0.0",
          "state": {
            "_dom_classes": [],
            "_model_module": "@jupyter-widgets/output",
            "_model_module_version": "1.0.0",
            "_model_name": "OutputModel",
            "_view_count": null,
            "_view_module": "@jupyter-widgets/output",
            "_view_module_version": "1.0.0",
            "_view_name": "OutputView",
            "layout": "IPY_MODEL_32af30896a454dc584b00f0309393f5a",
            "msg_id": "",
            "outputs": [
              {
                "output_type": "display_data",
                "data": {
                  "text/plain": "'neutrogena_lotion_tube_60.jpg'",
                  "application/vnd.google.colaboratory.intrinsic+json": {
                    "type": "string"
                  }
                },
                "metadata": {}
              }
            ]
          }
        },
        "32af30896a454dc584b00f0309393f5a": {
          "model_module": "@jupyter-widgets/base",
          "model_name": "LayoutModel",
          "model_module_version": "1.2.0",
          "state": {
            "_model_module": "@jupyter-widgets/base",
            "_model_module_version": "1.2.0",
            "_model_name": "LayoutModel",
            "_view_count": null,
            "_view_module": "@jupyter-widgets/base",
            "_view_module_version": "1.2.0",
            "_view_name": "LayoutView",
            "align_content": null,
            "align_items": null,
            "align_self": null,
            "border": null,
            "bottom": null,
            "display": null,
            "flex": null,
            "flex_flow": null,
            "grid_area": null,
            "grid_auto_columns": null,
            "grid_auto_flow": null,
            "grid_auto_rows": null,
            "grid_column": null,
            "grid_gap": null,
            "grid_row": null,
            "grid_template_areas": null,
            "grid_template_columns": null,
            "grid_template_rows": null,
            "height": null,
            "justify_content": null,
            "justify_items": null,
            "left": null,
            "margin": null,
            "max_height": null,
            "max_width": null,
            "min_height": null,
            "min_width": null,
            "object_fit": null,
            "object_position": null,
            "order": null,
            "overflow": null,
            "overflow_x": null,
            "overflow_y": null,
            "padding": null,
            "right": null,
            "top": null,
            "visibility": null,
            "width": null
          }
        }
      }
    }
  },
  "nbformat": 4,
  "nbformat_minor": 5
}