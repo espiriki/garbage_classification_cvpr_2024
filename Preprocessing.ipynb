{
  "cells": [
    {
      "cell_type": "markdown",
      "id": "8Q3nTGArN-y6",
      "metadata": {
        "id": "8Q3nTGArN-y6"
      },
      "source": [
        "# **GARBAGE CLASSIFICATION PROJECT PROPROCESSING**"
      ]
    },
    {
      "cell_type": "code",
      "execution_count": null,
      "id": "r9w2WPGJNhFT",
      "metadata": {
        "colab": {
          "base_uri": "https://localhost:8080/"
        },
        "id": "r9w2WPGJNhFT",
        "outputId": "1a138605-0028-4f08-8227-7705b1087d89"
      },
      "outputs": [
        {
          "name": "stdout",
          "output_type": "stream",
          "text": [
            "Collecting pigeon-jupyter\n",
            "  Downloading pigeon-jupyter-0.1.0.tar.gz (3.8 kB)\n",
            "  Preparing metadata (setup.py) ... \u001b[?25l\u001b[?25hdone\n",
            "Requirement already satisfied: ipywidgets in /usr/local/lib/python3.10/dist-packages (from pigeon-jupyter) (7.7.1)\n",
            "Requirement already satisfied: ipykernel>=4.5.1 in /usr/local/lib/python3.10/dist-packages (from ipywidgets->pigeon-jupyter) (5.5.6)\n",
            "Requirement already satisfied: ipython-genutils~=0.2.0 in /usr/local/lib/python3.10/dist-packages (from ipywidgets->pigeon-jupyter) (0.2.0)\n",
            "Requirement already satisfied: traitlets>=4.3.1 in /usr/local/lib/python3.10/dist-packages (from ipywidgets->pigeon-jupyter) (5.7.1)\n",
            "Requirement already satisfied: widgetsnbextension~=3.6.0 in /usr/local/lib/python3.10/dist-packages (from ipywidgets->pigeon-jupyter) (3.6.4)\n",
            "Requirement already satisfied: ipython>=4.0.0 in /usr/local/lib/python3.10/dist-packages (from ipywidgets->pigeon-jupyter) (7.34.0)\n",
            "Requirement already satisfied: jupyterlab-widgets>=1.0.0 in /usr/local/lib/python3.10/dist-packages (from ipywidgets->pigeon-jupyter) (3.0.7)\n",
            "Requirement already satisfied: jupyter-client in /usr/local/lib/python3.10/dist-packages (from ipykernel>=4.5.1->ipywidgets->pigeon-jupyter) (6.1.12)\n",
            "Requirement already satisfied: tornado>=4.2 in /usr/local/lib/python3.10/dist-packages (from ipykernel>=4.5.1->ipywidgets->pigeon-jupyter) (6.3.1)\n",
            "Requirement already satisfied: setuptools>=18.5 in /usr/local/lib/python3.10/dist-packages (from ipython>=4.0.0->ipywidgets->pigeon-jupyter) (67.7.2)\n",
            "Collecting jedi>=0.16 (from ipython>=4.0.0->ipywidgets->pigeon-jupyter)\n",
            "  Downloading jedi-0.18.2-py2.py3-none-any.whl (1.6 MB)\n",
            "\u001b[2K     \u001b[90m━━━━━━━━━━━━━━━━━━━━━━━━━━━━━━━━━━━━━━━━\u001b[0m \u001b[32m1.6/1.6 MB\u001b[0m \u001b[31m13.3 MB/s\u001b[0m eta \u001b[36m0:00:00\u001b[0m\n",
            "\u001b[?25hRequirement already satisfied: decorator in /usr/local/lib/python3.10/dist-packages (from ipython>=4.0.0->ipywidgets->pigeon-jupyter) (4.4.2)\n",
            "Requirement already satisfied: pickleshare in /usr/local/lib/python3.10/dist-packages (from ipython>=4.0.0->ipywidgets->pigeon-jupyter) (0.7.5)\n",
            "Requirement already satisfied: prompt-toolkit!=3.0.0,!=3.0.1,<3.1.0,>=2.0.0 in /usr/local/lib/python3.10/dist-packages (from ipython>=4.0.0->ipywidgets->pigeon-jupyter) (3.0.38)\n",
            "Requirement already satisfied: pygments in /usr/local/lib/python3.10/dist-packages (from ipython>=4.0.0->ipywidgets->pigeon-jupyter) (2.14.0)\n",
            "Requirement already satisfied: backcall in /usr/local/lib/python3.10/dist-packages (from ipython>=4.0.0->ipywidgets->pigeon-jupyter) (0.2.0)\n",
            "Requirement already satisfied: matplotlib-inline in /usr/local/lib/python3.10/dist-packages (from ipython>=4.0.0->ipywidgets->pigeon-jupyter) (0.1.6)\n",
            "Requirement already satisfied: pexpect>4.3 in /usr/local/lib/python3.10/dist-packages (from ipython>=4.0.0->ipywidgets->pigeon-jupyter) (4.8.0)\n",
            "Requirement already satisfied: notebook>=4.4.1 in /usr/local/lib/python3.10/dist-packages (from widgetsnbextension~=3.6.0->ipywidgets->pigeon-jupyter) (6.4.8)\n",
            "Requirement already satisfied: parso<0.9.0,>=0.8.0 in /usr/local/lib/python3.10/dist-packages (from jedi>=0.16->ipython>=4.0.0->ipywidgets->pigeon-jupyter) (0.8.3)\n",
            "Requirement already satisfied: jinja2 in /usr/local/lib/python3.10/dist-packages (from notebook>=4.4.1->widgetsnbextension~=3.6.0->ipywidgets->pigeon-jupyter) (3.1.2)\n",
            "Requirement already satisfied: pyzmq>=17 in /usr/local/lib/python3.10/dist-packages (from notebook>=4.4.1->widgetsnbextension~=3.6.0->ipywidgets->pigeon-jupyter) (23.2.1)\n",
            "Requirement already satisfied: argon2-cffi in /usr/local/lib/python3.10/dist-packages (from notebook>=4.4.1->widgetsnbextension~=3.6.0->ipywidgets->pigeon-jupyter) (21.3.0)\n",
            "Requirement already satisfied: jupyter-core>=4.6.1 in /usr/local/lib/python3.10/dist-packages (from notebook>=4.4.1->widgetsnbextension~=3.6.0->ipywidgets->pigeon-jupyter) (5.3.1)\n",
            "Requirement already satisfied: nbformat in /usr/local/lib/python3.10/dist-packages (from notebook>=4.4.1->widgetsnbextension~=3.6.0->ipywidgets->pigeon-jupyter) (5.9.0)\n",
            "Requirement already satisfied: nbconvert in /usr/local/lib/python3.10/dist-packages (from notebook>=4.4.1->widgetsnbextension~=3.6.0->ipywidgets->pigeon-jupyter) (6.5.4)\n",
            "Requirement already satisfied: nest-asyncio>=1.5 in /usr/local/lib/python3.10/dist-packages (from notebook>=4.4.1->widgetsnbextension~=3.6.0->ipywidgets->pigeon-jupyter) (1.5.6)\n",
            "Requirement already satisfied: Send2Trash>=1.8.0 in /usr/local/lib/python3.10/dist-packages (from notebook>=4.4.1->widgetsnbextension~=3.6.0->ipywidgets->pigeon-jupyter) (1.8.2)\n",
            "Requirement already satisfied: terminado>=0.8.3 in /usr/local/lib/python3.10/dist-packages (from notebook>=4.4.1->widgetsnbextension~=3.6.0->ipywidgets->pigeon-jupyter) (0.17.1)\n",
            "Requirement already satisfied: prometheus-client in /usr/local/lib/python3.10/dist-packages (from notebook>=4.4.1->widgetsnbextension~=3.6.0->ipywidgets->pigeon-jupyter) (0.17.0)\n",
            "Requirement already satisfied: python-dateutil>=2.1 in /usr/local/lib/python3.10/dist-packages (from jupyter-client->ipykernel>=4.5.1->ipywidgets->pigeon-jupyter) (2.8.2)\n",
            "Requirement already satisfied: ptyprocess>=0.5 in /usr/local/lib/python3.10/dist-packages (from pexpect>4.3->ipython>=4.0.0->ipywidgets->pigeon-jupyter) (0.7.0)\n",
            "Requirement already satisfied: wcwidth in /usr/local/lib/python3.10/dist-packages (from prompt-toolkit!=3.0.0,!=3.0.1,<3.1.0,>=2.0.0->ipython>=4.0.0->ipywidgets->pigeon-jupyter) (0.2.6)\n",
            "Requirement already satisfied: platformdirs>=2.5 in /usr/local/lib/python3.10/dist-packages (from jupyter-core>=4.6.1->notebook>=4.4.1->widgetsnbextension~=3.6.0->ipywidgets->pigeon-jupyter) (3.7.0)\n",
            "Requirement already satisfied: six>=1.5 in /usr/local/lib/python3.10/dist-packages (from python-dateutil>=2.1->jupyter-client->ipykernel>=4.5.1->ipywidgets->pigeon-jupyter) (1.16.0)\n",
            "Requirement already satisfied: argon2-cffi-bindings in /usr/local/lib/python3.10/dist-packages (from argon2-cffi->notebook>=4.4.1->widgetsnbextension~=3.6.0->ipywidgets->pigeon-jupyter) (21.2.0)\n",
            "Requirement already satisfied: MarkupSafe>=2.0 in /usr/local/lib/python3.10/dist-packages (from jinja2->notebook>=4.4.1->widgetsnbextension~=3.6.0->ipywidgets->pigeon-jupyter) (2.1.3)\n",
            "Requirement already satisfied: lxml in /usr/local/lib/python3.10/dist-packages (from nbconvert->notebook>=4.4.1->widgetsnbextension~=3.6.0->ipywidgets->pigeon-jupyter) (4.9.2)\n",
            "Requirement already satisfied: beautifulsoup4 in /usr/local/lib/python3.10/dist-packages (from nbconvert->notebook>=4.4.1->widgetsnbextension~=3.6.0->ipywidgets->pigeon-jupyter) (4.11.2)\n",
            "Requirement already satisfied: bleach in /usr/local/lib/python3.10/dist-packages (from nbconvert->notebook>=4.4.1->widgetsnbextension~=3.6.0->ipywidgets->pigeon-jupyter) (6.0.0)\n",
            "Requirement already satisfied: defusedxml in /usr/local/lib/python3.10/dist-packages (from nbconvert->notebook>=4.4.1->widgetsnbextension~=3.6.0->ipywidgets->pigeon-jupyter) (0.7.1)\n",
            "Requirement already satisfied: entrypoints>=0.2.2 in /usr/local/lib/python3.10/dist-packages (from nbconvert->notebook>=4.4.1->widgetsnbextension~=3.6.0->ipywidgets->pigeon-jupyter) (0.4)\n",
            "Requirement already satisfied: jupyterlab-pygments in /usr/local/lib/python3.10/dist-packages (from nbconvert->notebook>=4.4.1->widgetsnbextension~=3.6.0->ipywidgets->pigeon-jupyter) (0.2.2)\n",
            "Requirement already satisfied: mistune<2,>=0.8.1 in /usr/local/lib/python3.10/dist-packages (from nbconvert->notebook>=4.4.1->widgetsnbextension~=3.6.0->ipywidgets->pigeon-jupyter) (0.8.4)\n",
            "Requirement already satisfied: nbclient>=0.5.0 in /usr/local/lib/python3.10/dist-packages (from nbconvert->notebook>=4.4.1->widgetsnbextension~=3.6.0->ipywidgets->pigeon-jupyter) (0.8.0)\n",
            "Requirement already satisfied: packaging in /usr/local/lib/python3.10/dist-packages (from nbconvert->notebook>=4.4.1->widgetsnbextension~=3.6.0->ipywidgets->pigeon-jupyter) (23.1)\n",
            "Requirement already satisfied: pandocfilters>=1.4.1 in /usr/local/lib/python3.10/dist-packages (from nbconvert->notebook>=4.4.1->widgetsnbextension~=3.6.0->ipywidgets->pigeon-jupyter) (1.5.0)\n",
            "Requirement already satisfied: tinycss2 in /usr/local/lib/python3.10/dist-packages (from nbconvert->notebook>=4.4.1->widgetsnbextension~=3.6.0->ipywidgets->pigeon-jupyter) (1.2.1)\n",
            "Requirement already satisfied: fastjsonschema in /usr/local/lib/python3.10/dist-packages (from nbformat->notebook>=4.4.1->widgetsnbextension~=3.6.0->ipywidgets->pigeon-jupyter) (2.17.1)\n",
            "Requirement already satisfied: jsonschema>=2.6 in /usr/local/lib/python3.10/dist-packages (from nbformat->notebook>=4.4.1->widgetsnbextension~=3.6.0->ipywidgets->pigeon-jupyter) (4.3.3)\n",
            "Requirement already satisfied: attrs>=17.4.0 in /usr/local/lib/python3.10/dist-packages (from jsonschema>=2.6->nbformat->notebook>=4.4.1->widgetsnbextension~=3.6.0->ipywidgets->pigeon-jupyter) (23.1.0)\n",
            "Requirement already satisfied: pyrsistent!=0.17.0,!=0.17.1,!=0.17.2,>=0.14.0 in /usr/local/lib/python3.10/dist-packages (from jsonschema>=2.6->nbformat->notebook>=4.4.1->widgetsnbextension~=3.6.0->ipywidgets->pigeon-jupyter) (0.19.3)\n",
            "Requirement already satisfied: cffi>=1.0.1 in /usr/local/lib/python3.10/dist-packages (from argon2-cffi-bindings->argon2-cffi->notebook>=4.4.1->widgetsnbextension~=3.6.0->ipywidgets->pigeon-jupyter) (1.15.1)\n",
            "Requirement already satisfied: soupsieve>1.2 in /usr/local/lib/python3.10/dist-packages (from beautifulsoup4->nbconvert->notebook>=4.4.1->widgetsnbextension~=3.6.0->ipywidgets->pigeon-jupyter) (2.4.1)\n",
            "Requirement already satisfied: webencodings in /usr/local/lib/python3.10/dist-packages (from bleach->nbconvert->notebook>=4.4.1->widgetsnbextension~=3.6.0->ipywidgets->pigeon-jupyter) (0.5.1)\n",
            "Requirement already satisfied: pycparser in /usr/local/lib/python3.10/dist-packages (from cffi>=1.0.1->argon2-cffi-bindings->argon2-cffi->notebook>=4.4.1->widgetsnbextension~=3.6.0->ipywidgets->pigeon-jupyter) (2.21)\n",
            "Building wheels for collected packages: pigeon-jupyter\n",
            "  Building wheel for pigeon-jupyter (setup.py) ... \u001b[?25l\u001b[?25hdone\n",
            "  Created wheel for pigeon-jupyter: filename=pigeon_jupyter-0.1.0-py3-none-any.whl size=3864 sha256=6ae5c0669beb2c91b9388bd6a84a3eefc78fd87389e2d7a7ca549ebf17646389\n",
            "  Stored in directory: /root/.cache/pip/wheels/d6/ba/b5/200058390e4778124143097488512dd08080fe768280d05140\n",
            "Successfully built pigeon-jupyter\n",
            "Installing collected packages: jedi, pigeon-jupyter\n",
            "Successfully installed jedi-0.18.2 pigeon-jupyter-0.1.0\n"
          ]
        }
      ],
      "source": [
        "!pip install pigeon-jupyter"
      ]
    },
    {
      "cell_type": "code",
      "execution_count": null,
      "id": "f7569d03",
      "metadata": {
        "id": "f7569d03"
      },
      "outputs": [],
      "source": [
        "from __future__ import print_function\n",
        "\n",
        "import os.path\n",
        "import io\n",
        "import os\n",
        "\n",
        "from IPython.display import clear_output\n",
        "import matplotlib.pyplot as plt\n",
        "from PIL import Image\n",
        "from ipywidgets import Button, HBox\n",
        "import asyncio\n",
        "import numpy as np\n",
        "import glob\n",
        "import IPython\n",
        "import shutil\n",
        "import cv2\n",
        "import pigeon\n",
        "from pigeon import annotate\n",
        "from IPython.display import display"
      ]
    },
    {
      "cell_type": "code",
      "execution_count": null,
      "id": "d8eb9647",
      "metadata": {
        "id": "d8eb9647"
      },
      "outputs": [],
      "source": [
        "test = True\n",
        "max_num_pictures_to_download = 20"
      ]
    },
    {
      "cell_type": "code",
      "execution_count": null,
      "id": "19a63a31",
      "metadata": {
        "id": "19a63a31"
      },
      "outputs": [],
      "source": [
        "def get_current_pics_in_folder(folder):\n",
        "    return [fn for fn in os.listdir(folder) if fn.endswith(('.jpeg', '.jpg'))]"
      ]
    },
    {
      "cell_type": "code",
      "execution_count": null,
      "id": "129dfd27",
      "metadata": {
        "id": "129dfd27"
      },
      "outputs": [],
      "source": [
        "folder_names = [\"Black\", \"Green\", \"Blue\", \"Refund\"]"
      ]
    },
    {
      "cell_type": "code",
      "execution_count": null,
      "id": "mvOGOAZgNriy",
      "metadata": {
        "colab": {
          "base_uri": "https://localhost:8080/"
        },
        "id": "mvOGOAZgNriy",
        "outputId": "1d77ee26-d61f-43c1-de07-fc471f7d1e1f"
      },
      "outputs": [
        {
          "name": "stdout",
          "output_type": "stream",
          "text": [
            "Mounted at /content/drive\n"
          ]
        }
      ],
      "source": [
        "from google.colab import drive\n",
        "drive.mount('/content/drive')"
      ]
    },
    {
      "cell_type": "markdown",
      "id": "tq66X1rUOMBq",
      "metadata": {
        "id": "tq66X1rUOMBq"
      },
      "source": [
        "**Classify the images in the 4 classes**"
      ]
    },
    {
      "cell_type": "code",
      "execution_count": null,
      "id": "1c02675a",
      "metadata": {
        "colab": {
          "base_uri": "https://localhost:8080/",
          "height": 479,
          "referenced_widgets": [
            "49ae626c8f9d480c9a2e46a532557e39",
            "ab223f1a0eff489cb04197ff2a8dec49",
            "ec400be5f4df4099a158e755cf96ea8f"
          ]
        },
        "id": "1c02675a",
        "outputId": "b4878ad8-f2a7-4fdf-f90b-d302f84f021c"
      },
      "outputs": [
        {
          "data": {
            "application/vnd.jupyter.widget-view+json": {
              "model_id": "49ae626c8f9d480c9a2e46a532557e39",
              "version_major": 2,
              "version_minor": 0
            },
            "text/plain": [
              "HTML(value='0 examples annotated, 481 examples left')"
            ]
          },
          "metadata": {},
          "output_type": "display_data"
        },
        {
          "data": {
            "application/vnd.jupyter.widget-view+json": {
              "model_id": "ab223f1a0eff489cb04197ff2a8dec49",
              "version_major": 2,
              "version_minor": 0
            },
            "text/plain": [
              "HBox(children=(Button(description='Black', style=ButtonStyle()), Button(description='Green', style=ButtonStyle…"
            ]
          },
          "metadata": {},
          "output_type": "display_data"
        },
        {
          "data": {
            "application/vnd.jupyter.widget-view+json": {
              "model_id": "ec400be5f4df4099a158e755cf96ea8f",
              "version_major": 2,
              "version_minor": 0
            },
            "text/plain": [
              "Output()"
            ]
          },
          "metadata": {},
          "output_type": "display_data"
        }
      ],
      "source": [
        "import matplotlib.pyplot as plt\n",
        "\n",
        "_width = 500\n",
        "_height = 500\n",
        "tmp_image_name = \"tmp.jpg\"\n",
        "def resize_and_display(pic):\n",
        "    print(pic)\n",
        "    # img = cv2.imread(pic)\n",
        "    # img = cv2.cvtColor(img, cv2.COLOR_BGR2RGB)\n",
        "    # resized = cv2.resize(img, dsize=(_width, _height), interpolation=cv2.INTER_CUBIC)\n",
        "    #cv2.imshow(resized)\n",
        "    img=plt.imread(pic)\n",
        "    plt.imshow(img, cmap='gray')\n",
        "    plt.show()\n",
        "    #cv2.imwrite(tmp_image_name, resized)\n",
        "    #display(IPython.display.IFrame(resized, width=_height,height=_width))\n",
        "\n",
        "# Logic to classify files\n",
        "folder_name = \"/content/drive/MyDrive/UCALGARY PROJECT/Refund\"\n",
        "current_pics_in_local_folder =  get_current_pics_in_folder(folder_name)\n",
        "\n",
        "pic_with_folder=[]\n",
        "for pic in current_pics_in_local_folder:\n",
        "    pic_with_folder.append(folder_name + os.sep + pic)\n",
        "\n",
        "\n",
        "directory= \"/content/drive/MyDrive/UCALGARY PROJECT/final_data\"\n",
        "\n",
        "working_dataset=[]\n",
        "\n",
        "#create the necessary folders\n",
        "for folder in folder_names:\n",
        "    path = os.path.join(directory, folder)\n",
        "    #os.makedirs(path) ########### UNCOMMENT THIS WHEN USING FIRST TIME\n",
        "    working_dataset.append(path)\n",
        "\n",
        "annotations = annotate(\n",
        "  pic_with_folder,\n",
        "  options=folder_names,\n",
        "  display_fn=lambda filename: resize_and_display(filename))"
      ]
    },
    {
      "cell_type": "code",
      "execution_count": null,
      "id": "ZzALqUlul1Km",
      "metadata": {
        "colab": {
          "base_uri": "https://localhost:8080/"
        },
        "id": "ZzALqUlul1Km",
        "outputId": "0c64aa8c-37b1-48dc-ee89-05892f120fba"
      },
      "outputs": [
        {
          "data": {
            "text/plain": [
              "[('/content/drive/MyDrive/UCALGARY PROJECT/Refund/used_paperback_boks_30.jpg',\n",
              "  'Blue'),\n",
              " ('/content/drive/MyDrive/UCALGARY PROJECT/Refund/cologne_35.jpg', 'Black'),\n",
              " ('/content/drive/MyDrive/UCALGARY PROJECT/Refund/used_oil_28.jpg', 'Black'),\n",
              " ('/content/drive/MyDrive/UCALGARY PROJECT/Refund/toilet_cleaning_powder_27.jpg',\n",
              "  'Black'),\n",
              " ('/content/drive/MyDrive/UCALGARY PROJECT/Refund/wooend_table_79.jpg',\n",
              "  'Blue'),\n",
              " ('/content/drive/MyDrive/UCALGARY PROJECT/Refund/ink_cartridge_116.jpg',\n",
              "  'Refund'),\n",
              " ('/content/drive/MyDrive/UCALGARY PROJECT/Refund/car_battery_151.jpg',\n",
              "  'Refund'),\n",
              " ('/content/drive/MyDrive/UCALGARY PROJECT/Refund/old_speaker_126.jpg',\n",
              "  'Refund'),\n",
              " ('/content/drive/MyDrive/UCALGARY PROJECT/Refund/bicycle_pedals_146.jpg',\n",
              "  'Refund'),\n",
              " ('/content/drive/MyDrive/UCALGARY PROJECT/Refund/cologne_159.jpg', 'Black'),\n",
              " ('/content/drive/MyDrive/UCALGARY PROJECT/Refund/simcard_131.jpg', 'Refund'),\n",
              " ('/content/drive/MyDrive/UCALGARY PROJECT/Refund/car_wheel_skin_157.jpg',\n",
              "  'Refund'),\n",
              " ('/content/drive/MyDrive/UCALGARY PROJECT/Refund/paint_200.jpg', 'Refund'),\n",
              " ('/content/drive/MyDrive/UCALGARY PROJECT/Refund/multi_tool_screwdriver_191.jpg',\n",
              "  'Refund'),\n",
              " ('/content/drive/MyDrive/UCALGARY PROJECT/Refund/glasses_case_169.jpg',\n",
              "  'Refund'),\n",
              " ('/content/drive/MyDrive/UCALGARY PROJECT/Refund/hex_keys_177.jpg', 'Refund'),\n",
              " ('/content/drive/MyDrive/UCALGARY PROJECT/Refund/key_with_sensor_247.jpg',\n",
              "  'Refund'),\n",
              " ('/content/drive/MyDrive/UCALGARY PROJECT/Refund/iron_245.jpg', 'Refund'),\n",
              " ('/content/drive/MyDrive/UCALGARY PROJECT/Refund/fork_242.jpg', 'Refund'),\n",
              " ('/content/drive/MyDrive/UCALGARY PROJECT/Refund/ceramic_plate_235.jpg',\n",
              "  'Refund'),\n",
              " ('/content/drive/MyDrive/UCALGARY PROJECT/Refund/electronic_key_fob_238.jpg',\n",
              "  'Refund'),\n",
              " ('/content/drive/MyDrive/UCALGARY PROJECT/Refund/metal_plastic_knife_255.jpg',\n",
              "  'Refund'),\n",
              " ('/content/drive/MyDrive/UCALGARY PROJECT/Refund/old_key_fob_260.jpg',\n",
              "  'Refund'),\n",
              " ('/content/drive/MyDrive/UCALGARY PROJECT/Refund/old_tooth_brush_268.jpg',\n",
              "  'Black'),\n",
              " ('/content/drive/MyDrive/UCALGARY PROJECT/Refund/shoe_brush_279.jpg',\n",
              "  'Refund'),\n",
              " ('/content/drive/MyDrive/UCALGARY PROJECT/Refund/rubbing_alcohol_bottle_277.jpg',\n",
              "  'Refund'),\n",
              " ('/content/drive/MyDrive/UCALGARY PROJECT/Refund/paint_can_272.jpg',\n",
              "  'Refund'),\n",
              " ('/content/drive/MyDrive/UCALGARY PROJECT/Refund/plastic_bag_273.jpg',\n",
              "  'Blue'),\n",
              " ('/content/drive/MyDrive/UCALGARY PROJECT/Refund/suace_pan_283.jpg',\n",
              "  'Refund'),\n",
              " ('/content/drive/MyDrive/UCALGARY PROJECT/Refund/silicon_strainer_281.jpg',\n",
              "  'Blue'),\n",
              " ('/content/drive/MyDrive/UCALGARY PROJECT/Refund/black_cup_299.jpg',\n",
              "  'Refund'),\n",
              " ('/content/drive/MyDrive/UCALGARY PROJECT/Refund/candle_303.jpg', 'Refund'),\n",
              " ('/content/drive/MyDrive/UCALGARY PROJECT/Refund/trash_bin_285.jpg',\n",
              "  'Refund'),\n",
              " ('/content/drive/MyDrive/UCALGARY PROJECT/Refund/table_lamp_shade_284.jpg',\n",
              "  'Refund'),\n",
              " ('/content/drive/MyDrive/UCALGARY PROJECT/Refund/metal_measuring_spoon_315.jpg',\n",
              "  'Refund'),\n",
              " ('/content/drive/MyDrive/UCALGARY PROJECT/Refund/metal_water_bottle_316.jpg',\n",
              "  'Refund'),\n",
              " ('/content/drive/MyDrive/UCALGARY PROJECT/Refund/light_blue_thermos_310.jpg',\n",
              "  'Refund')]"
            ]
          },
          "execution_count": 32,
          "metadata": {},
          "output_type": "execute_result"
        }
      ],
      "source": [
        "annotations"
      ]
    },
    {
      "cell_type": "code",
      "execution_count": null,
      "id": "OkrR7PfIl3ON",
      "metadata": {
        "colab": {
          "base_uri": "https://localhost:8080/"
        },
        "id": "OkrR7PfIl3ON",
        "outputId": "c564539c-8a31-4b7e-9c11-d1eae1b57ae4"
      },
      "outputs": [
        {
          "name": "stdout",
          "output_type": "stream",
          "text": [
            "('/content/drive/MyDrive/UCALGARY PROJECT/Refund/used_paperback_boks_30.jpg', 'Blue')\n",
            "('/content/drive/MyDrive/UCALGARY PROJECT/Refund/cologne_35.jpg', 'Black')\n",
            "('/content/drive/MyDrive/UCALGARY PROJECT/Refund/used_oil_28.jpg', 'Black')\n",
            "('/content/drive/MyDrive/UCALGARY PROJECT/Refund/toilet_cleaning_powder_27.jpg', 'Black')\n",
            "('/content/drive/MyDrive/UCALGARY PROJECT/Refund/wooend_table_79.jpg', 'Blue')\n",
            "('/content/drive/MyDrive/UCALGARY PROJECT/Refund/ink_cartridge_116.jpg', 'Refund')\n",
            "('/content/drive/MyDrive/UCALGARY PROJECT/Refund/car_battery_151.jpg', 'Refund')\n",
            "('/content/drive/MyDrive/UCALGARY PROJECT/Refund/old_speaker_126.jpg', 'Refund')\n",
            "('/content/drive/MyDrive/UCALGARY PROJECT/Refund/bicycle_pedals_146.jpg', 'Refund')\n",
            "('/content/drive/MyDrive/UCALGARY PROJECT/Refund/cologne_159.jpg', 'Black')\n",
            "('/content/drive/MyDrive/UCALGARY PROJECT/Refund/simcard_131.jpg', 'Refund')\n",
            "('/content/drive/MyDrive/UCALGARY PROJECT/Refund/car_wheel_skin_157.jpg', 'Refund')\n",
            "('/content/drive/MyDrive/UCALGARY PROJECT/Refund/paint_200.jpg', 'Refund')\n",
            "('/content/drive/MyDrive/UCALGARY PROJECT/Refund/multi_tool_screwdriver_191.jpg', 'Refund')\n",
            "('/content/drive/MyDrive/UCALGARY PROJECT/Refund/glasses_case_169.jpg', 'Refund')\n",
            "('/content/drive/MyDrive/UCALGARY PROJECT/Refund/hex_keys_177.jpg', 'Refund')\n",
            "('/content/drive/MyDrive/UCALGARY PROJECT/Refund/key_with_sensor_247.jpg', 'Refund')\n",
            "('/content/drive/MyDrive/UCALGARY PROJECT/Refund/iron_245.jpg', 'Refund')\n",
            "('/content/drive/MyDrive/UCALGARY PROJECT/Refund/fork_242.jpg', 'Refund')\n",
            "('/content/drive/MyDrive/UCALGARY PROJECT/Refund/ceramic_plate_235.jpg', 'Refund')\n",
            "('/content/drive/MyDrive/UCALGARY PROJECT/Refund/electronic_key_fob_238.jpg', 'Refund')\n",
            "('/content/drive/MyDrive/UCALGARY PROJECT/Refund/metal_plastic_knife_255.jpg', 'Refund')\n",
            "('/content/drive/MyDrive/UCALGARY PROJECT/Refund/old_key_fob_260.jpg', 'Refund')\n",
            "('/content/drive/MyDrive/UCALGARY PROJECT/Refund/old_tooth_brush_268.jpg', 'Black')\n",
            "('/content/drive/MyDrive/UCALGARY PROJECT/Refund/shoe_brush_279.jpg', 'Refund')\n",
            "('/content/drive/MyDrive/UCALGARY PROJECT/Refund/rubbing_alcohol_bottle_277.jpg', 'Refund')\n",
            "('/content/drive/MyDrive/UCALGARY PROJECT/Refund/paint_can_272.jpg', 'Refund')\n",
            "('/content/drive/MyDrive/UCALGARY PROJECT/Refund/plastic_bag_273.jpg', 'Blue')\n",
            "('/content/drive/MyDrive/UCALGARY PROJECT/Refund/suace_pan_283.jpg', 'Refund')\n",
            "('/content/drive/MyDrive/UCALGARY PROJECT/Refund/silicon_strainer_281.jpg', 'Blue')\n",
            "('/content/drive/MyDrive/UCALGARY PROJECT/Refund/black_cup_299.jpg', 'Refund')\n",
            "('/content/drive/MyDrive/UCALGARY PROJECT/Refund/candle_303.jpg', 'Refund')\n",
            "('/content/drive/MyDrive/UCALGARY PROJECT/Refund/trash_bin_285.jpg', 'Refund')\n",
            "('/content/drive/MyDrive/UCALGARY PROJECT/Refund/table_lamp_shade_284.jpg', 'Refund')\n",
            "('/content/drive/MyDrive/UCALGARY PROJECT/Refund/metal_measuring_spoon_315.jpg', 'Refund')\n",
            "('/content/drive/MyDrive/UCALGARY PROJECT/Refund/metal_water_bottle_316.jpg', 'Refund')\n",
            "('/content/drive/MyDrive/UCALGARY PROJECT/Refund/light_blue_thermos_310.jpg', 'Refund')\n"
          ]
        }
      ],
      "source": [
        "#When you finish classifying a batch, just run this cell\n",
        "\n",
        "directory= \"/content/drive/MyDrive/UCALGARY PROJECT/final_data\"\n",
        "new_note=[]\n",
        "try:\n",
        "    os.remove(tmp_image_name)\n",
        "except:\n",
        "    pass\n",
        "# Move the pictures to the right folder\n",
        "for note in annotations:\n",
        "    print(note)\n",
        "    new_note=os.path.join(directory, note[1])\n",
        "    try:\n",
        "        shutil.move(note[0], new_note)\n",
        "    except Exception as e:\n",
        "        err_str = str(e)\n",
        "        #just ignore the error if the file was already copied\n",
        "        if \"already\" in err_str:\n",
        "            pass"
      ]
    },
    {
      "cell_type": "markdown",
      "id": "fHUMVCARVxhl",
      "metadata": {
        "id": "fHUMVCARVxhl"
      },
      "source": [
        "**RENAME THE FILES**"
      ]
    },
    {
      "cell_type": "code",
      "execution_count": null,
      "id": "2n5gOLXnOsiF",
      "metadata": {
        "colab": {
          "base_uri": "https://localhost:8080/",
          "height": 140,
          "referenced_widgets": [
            "c33099d0a6bf409788d77a3698890e89",
            "88569dfbf2684c49a41ea23fff073134",
            "dcf37effac834d2ca22cfc7d4aa06003",
            "6eb90687d41a40baaabe0b7bfdf03d37"
          ]
        },
        "id": "2n5gOLXnOsiF",
        "outputId": "0f8e7d03-b415-4fba-86cd-924e282a8485"
      },
      "outputs": [
        {
          "data": {
            "application/vnd.jupyter.widget-view+json": {
              "model_id": "c33099d0a6bf409788d77a3698890e89",
              "version_major": 2,
              "version_minor": 0
            },
            "text/plain": [
              "HTML(value='0 examples annotated, 847 examples left')"
            ]
          },
          "metadata": {},
          "output_type": "display_data"
        },
        {
          "data": {
            "application/vnd.jupyter.widget-view+json": {
              "model_id": "88569dfbf2684c49a41ea23fff073134",
              "version_major": 2,
              "version_minor": 0
            },
            "text/plain": [
              "Textarea(value='')"
            ]
          },
          "metadata": {},
          "output_type": "display_data"
        },
        {
          "data": {
            "application/vnd.jupyter.widget-view+json": {
              "model_id": "dcf37effac834d2ca22cfc7d4aa06003",
              "version_major": 2,
              "version_minor": 0
            },
            "text/plain": [
              "HBox(children=(Button(description='submit', style=ButtonStyle()), Button(description='skip', style=ButtonStyle…"
            ]
          },
          "metadata": {},
          "output_type": "display_data"
        },
        {
          "data": {
            "application/vnd.jupyter.widget-view+json": {
              "model_id": "6eb90687d41a40baaabe0b7bfdf03d37",
              "version_major": 2,
              "version_minor": 0
            },
            "text/plain": [
              "Output()"
            ]
          },
          "metadata": {},
          "output_type": "display_data"
        }
      ],
      "source": [
        "import matplotlib.pyplot as plt\n",
        "_width = 500\n",
        "_height = 500\n",
        "import os\n",
        "\n",
        "def resize_and_display(pic):\n",
        "    print(pic)\n",
        "    img = cv2.imread(pic)\n",
        "    img = cv2.cvtColor(img, cv2.COLOR_BGR2RGB)\n",
        "    resized = cv2.resize(img, dsize=(_width, _height), interpolation=cv2.INTER_CUBIC)\n",
        "    # plt.imshow(img, cmap='gray')\n",
        "    # plt.show()\n",
        "    cv2.imshow(resized)\n",
        "    # %matplotlib inline\n",
        "    # img=plt.imread(pic)\n",
        "    # plt.imshow(img, cmap='gray')\n",
        "    # plt.show()\n",
        "    # plt.plot()\n",
        "\n",
        "# Logic to classify files\n",
        "testing=\"/content/drive/MyDrive/UCALGARY PROJECT/Refund\"\n",
        "current_pics_in_local_folder =  get_current_pics_in_folder(testing)\n",
        "\n",
        "pic_with_folder=[]\n",
        "for pic in current_pics_in_local_folder:\n",
        "    pic_with_folder.append(pic)\n",
        "\n",
        "annotations = annotate(\n",
        "  pic_with_folder,\n",
        "  options=None)"
      ]
    },
    {
      "cell_type": "code",
      "execution_count": null,
      "id": "fyr2jTk3TEXb",
      "metadata": {
        "colab": {
          "base_uri": "https://localhost:8080/"
        },
        "id": "fyr2jTk3TEXb",
        "outputId": "bfef5293-865b-47b6-8fbe-e56afe564163"
      },
      "outputs": [
        {
          "data": {
            "text/plain": [
              "[('drain_cleaner_13.jpg', 'dqvjvwjehdv3j')]"
            ]
          },
          "execution_count": 17,
          "metadata": {},
          "output_type": "execute_result"
        }
      ],
      "source": [
        "annotations"
      ]
    },
    {
      "cell_type": "code",
      "execution_count": null,
      "id": "ElaoqJaj77sq",
      "metadata": {
        "id": "ElaoqJaj77sq"
      },
      "outputs": [],
      "source": [
        "annotations = list(map(list, annotations))"
      ]
    },
    {
      "cell_type": "code",
      "execution_count": null,
      "id": "GayiZjoh0Kgl",
      "metadata": {
        "id": "GayiZjoh0Kgl"
      },
      "outputs": [],
      "source": [
        "path_0=testing\n",
        "path_1=\"/content/drive/MyDrive/UCALGARY PROJECT/final_data/Refund\"\n",
        "\n",
        "for i in range(len(annotations)):\n",
        "  #print(annotations[i][0])\n",
        "  annotations[i][0]= os.path.join(path_0, annotations[i][0])\n",
        "  annotations[i][1]= os.path.join(path_1, annotations[i][1])"
      ]
    },
    {
      "cell_type": "code",
      "execution_count": null,
      "id": "9YLJhsEm50YX",
      "metadata": {
        "colab": {
          "base_uri": "https://localhost:8080/"
        },
        "id": "9YLJhsEm50YX",
        "outputId": "adc443d6-22d4-49e8-978b-7137ededc93c"
      },
      "outputs": [
        {
          "data": {
            "text/plain": [
              "[['/content/drive/MyDrive/UCALGARY PROJECT/Data/SMALL_DATA/Refund/aerosol_hair_spray_1.jpg',\n",
              "  '/content/drive/MyDrive/UCALGARY PROJECT/final_data/Refund/jhj'],\n",
              " ['/content/drive/MyDrive/UCALGARY PROJECT/Data/SMALL_DATA/Refund/aerosol_can_0.jpg',\n",
              "  '/content/drive/MyDrive/UCALGARY PROJECT/final_data/Refund/zxz']]"
            ]
          },
          "execution_count": 59,
          "metadata": {},
          "output_type": "execute_result"
        }
      ],
      "source": [
        "annotations"
      ]
    },
    {
      "cell_type": "code",
      "execution_count": null,
      "id": "48e42633",
      "metadata": {
        "colab": {
          "base_uri": "https://localhost:8080/"
        },
        "id": "48e42633",
        "outputId": "a6b0b46e-7ef0-470e-9854-bb9fe452be77"
      },
      "outputs": [
        {
          "name": "stdout",
          "output_type": "stream",
          "text": [
            "['/content/drive/MyDrive/UCALGARY PROJECT/Data/SMALL_DATA/Refund/aerosol_hair_spray_1.jpg', '/content/drive/MyDrive/UCALGARY PROJECT/final_data/Refund/jhj']\n",
            "['/content/drive/MyDrive/UCALGARY PROJECT/Data/SMALL_DATA/Refund/aerosol_can_0.jpg', '/content/drive/MyDrive/UCALGARY PROJECT/final_data/Refund/zxz']\n"
          ]
        }
      ],
      "source": [
        "#When you finish classifying a batch, just run this cell\n",
        "\n",
        "directory= \"/content/drive/MyDrive/UCALGARY PROJECT/final_data\"\n",
        "new_note=[]\n",
        "try:\n",
        "    os.remove(tmp_image_name)\n",
        "except:\n",
        "    pass\n",
        "# Move the pictures to the right folder\n",
        "for note in annotations:\n",
        "    print(note)\n",
        "    new_note=os.path.join(directory, note[1])\n",
        "    try:\n",
        "        shutil.move(note[0], new_note)\n",
        "    except Exception as e:\n",
        "        err_str = str(e)\n",
        "        #just ignore the error if the file was already copied\n",
        "        if \"already\" in err_str:\n",
        "            pass"
      ]
    },
    {
      "cell_type": "markdown",
      "id": "pba42bQfVn8H",
      "metadata": {
        "id": "pba42bQfVn8H"
      },
      "source": [
        "**CODE TO EXTRACT NAME OF IMAGE AND SAVE IN A .TXT FILE**"
      ]
    },
    {
      "cell_type": "markdown",
      "id": "uxHkuhAxHrvJ",
      "metadata": {
        "id": "uxHkuhAxHrvJ"
      },
      "source": [
        "**INFO**\n",
        "os.path.split() method in Python is used to Split the path name into a pair head and tail.\n",
        "In the above example ‘file.txt’ component of path name is tail and ‘/home/User/Desktop/’ is head."
      ]
    },
    {
      "cell_type": "markdown",
      "id": "aJkAJ1yIH-II",
      "metadata": {
        "id": "aJkAJ1yIH-II"
      },
      "source": [
        "**INFO**\n",
        "os.path.splitext() method split the path name into a pair root and ext."
      ]
    },
    {
      "cell_type": "code",
      "execution_count": null,
      "id": "ihwxNhsQQckU",
      "metadata": {
        "id": "ihwxNhsQQckU"
      },
      "outputs": [],
      "source": [
        "# Logic to classify files\n",
        "import os\n",
        "folder_name = \"/content/drive/MyDrive/UCALGARY PROJECT/data_for_test/Refund\"\n",
        "current_pics_in_local_folder =  get_current_pics_in_folder(folder_name)\n",
        "\n",
        "pic_with_folder=[]\n",
        "for pic in current_pics_in_local_folder:\n",
        "    pic_with_folder.append(folder_name + os.sep + pic)"
      ]
    },
    {
      "cell_type": "code",
      "execution_count": null,
      "id": "RK3zpLCR_VMq",
      "metadata": {
        "colab": {
          "base_uri": "https://localhost:8080/"
        },
        "id": "RK3zpLCR_VMq",
        "outputId": "0cd97fbe-7ba9-4436-b3c0-86e31f4fe4f5"
      },
      "outputs": [
        {
          "name": "stdout",
          "output_type": "stream",
          "text": [
            "['aerosol_can_0', 'aerosol_hair_spray_1', 'air_freshener_80', 'aaa_battery3_142', 'aa_battery_143', 'aaa_battery_140', 'aaa_battery2_141', 'aa_battery_295', 'AA_batteries_331', 'aa_battery_425', 'AA_battery_476', 'aa_battery_568', 'aerosol_can_569', 'aa_battery_631', 'aerosol_metal_can_793', 'AAA_battery_792', 'butane_gas_can_7', ' battery_2', 'charger_9', ' broken_computer_mouse_5']\n"
          ]
        }
      ],
      "source": [
        "import os\n",
        "a='single_object'\n",
        "b='multiple_object'\n",
        "numbers = ['1', '2', '3', '4', '5', '6', '7', '8', '9','10']\n",
        "m=[]\n",
        "empty=[]\n",
        "final=[]\n",
        "for i in range(len(pic_with_folder)):\n",
        "  fname=pic_with_folder[i]\n",
        "  #splitting the path name into root and ext\n",
        "  name, ext = os.path.splitext(fname)\n",
        "  m.append(name)\n",
        "  #splitting the path name into a pair root and tail\n",
        "  name=os.path.split(name)\n",
        "  empty.append(name[1])\n",
        "\n",
        "  #Adding the 2nd label in the name of the image files\n",
        "  #empty[i]=a+'_'+empty[i]\n",
        "  #m=empty[i]\n",
        "\n",
        "  #splitting the name of the image based on _\n",
        "  X=os.path.basename(empty[i]).split('_')\n",
        "  #Removing the numerical value present in the end in all the images\n",
        "  X='_'.join(X[:-1])\n",
        "  #splitting the name of the image based on _\n",
        "  X=os.path.basename(X).split('_')\n",
        "  for var1 in X:\n",
        "    for var2 in numbers:\n",
        "      if var1 == var2:\n",
        "        X.remove(var1)\n",
        "\n",
        "  final.append(X)\n",
        "print(empty)"
      ]
    },
    {
      "cell_type": "markdown",
      "id": "d94456e7",
      "metadata": {},
      "source": [
        "CODE TO SAVE THE DESCRIPTION IN A SEPRATE TEXT FILE"
      ]
    },
    {
      "cell_type": "code",
      "execution_count": null,
      "id": "tUQlbZqtqv3u",
      "metadata": {
        "colab": {
          "base_uri": "https://localhost:8080/"
        },
        "id": "tUQlbZqtqv3u",
        "outputId": "d8f49a74-a87b-4838-a052-37bcb1112b2e"
      },
      "outputs": [
        {
          "name": "stdout",
          "output_type": "stream",
          "text": [
            "['/content/drive/MyDrive/UCALGARY PROJECT/data_for_test/text_files/Refund/aerosol_can_0.txt', '/content/drive/MyDrive/UCALGARY PROJECT/data_for_test/text_files/Refund/aerosol_hair_spray_1.txt', '/content/drive/MyDrive/UCALGARY PROJECT/data_for_test/text_files/Refund/air_freshener_80.txt', '/content/drive/MyDrive/UCALGARY PROJECT/data_for_test/text_files/Refund/aaa_battery3_142.txt', '/content/drive/MyDrive/UCALGARY PROJECT/data_for_test/text_files/Refund/aa_battery_143.txt', '/content/drive/MyDrive/UCALGARY PROJECT/data_for_test/text_files/Refund/aaa_battery_140.txt', '/content/drive/MyDrive/UCALGARY PROJECT/data_for_test/text_files/Refund/aaa_battery2_141.txt', '/content/drive/MyDrive/UCALGARY PROJECT/data_for_test/text_files/Refund/aa_battery_295.txt', '/content/drive/MyDrive/UCALGARY PROJECT/data_for_test/text_files/Refund/AA_batteries_331.txt', '/content/drive/MyDrive/UCALGARY PROJECT/data_for_test/text_files/Refund/aa_battery_425.txt', '/content/drive/MyDrive/UCALGARY PROJECT/data_for_test/text_files/Refund/AA_battery_476.txt', '/content/drive/MyDrive/UCALGARY PROJECT/data_for_test/text_files/Refund/aa_battery_568.txt', '/content/drive/MyDrive/UCALGARY PROJECT/data_for_test/text_files/Refund/aerosol_can_569.txt', '/content/drive/MyDrive/UCALGARY PROJECT/data_for_test/text_files/Refund/aa_battery_631.txt', '/content/drive/MyDrive/UCALGARY PROJECT/data_for_test/text_files/Refund/aerosol_metal_can_793.txt', '/content/drive/MyDrive/UCALGARY PROJECT/data_for_test/text_files/Refund/AAA_battery_792.txt', '/content/drive/MyDrive/UCALGARY PROJECT/data_for_test/text_files/Refund/butane_gas_can_7.txt', '/content/drive/MyDrive/UCALGARY PROJECT/data_for_test/text_files/Refund/ battery_2.txt', '/content/drive/MyDrive/UCALGARY PROJECT/data_for_test/text_files/Refund/charger_9.txt', '/content/drive/MyDrive/UCALGARY PROJECT/data_for_test/text_files/Refund/ broken_computer_mouse_5.txt']\n"
          ]
        }
      ],
      "source": [
        "path=\"/content/drive/MyDrive/UCALGARY PROJECT/data_for_test/text_files/Refund/\"\n",
        "completeName=[]\n",
        "for i in range(len(m)):\n",
        "  completeName.append(os.path.join(path+empty[i]+\".txt\"))\n",
        "print(completeName)\n",
        "for i in range(len(completeName)):\n",
        "  with open(completeName[i], \"w\") as output:\n",
        "    #output.write(\"label_1: \")\n",
        "    for j in final[i]:\n",
        "      output.write(str(j) + \" \")"
      ]
    },
    {
      "cell_type": "code",
      "execution_count": null,
      "id": "lidWJ-Kc6UQD",
      "metadata": {
        "colab": {
          "base_uri": "https://localhost:8080/"
        },
        "id": "lidWJ-Kc6UQD",
        "outputId": "8367c5b8-7b9e-4dd2-d5e5-416d14c3d0c0"
      },
      "outputs": [
        {
          "name": "stdout",
          "output_type": "stream",
          "text": [
            "/content/drive/MyDrive/UCALGARY PROJECT/final_data/txt_files/Green\n"
          ]
        }
      ],
      "source": [
        "#PIECE OF CODE TO REMOVE ALL THE FILES OF SAME EXTENSION\n",
        "\n",
        "# %cd /content/drive/MyDrive/UCALGARY PROJECT/final_data/txt_files/Green\n",
        "# !rm -r *.txt"
      ]
    }
  ],
  "metadata": {
    "accelerator": "GPU",
    "colab": {
      "collapsed_sections": [
        "8Q3nTGArN-y6",
        "65ZmplbtA3YN",
        "N-LVNv0aPw3d",
        "WIefAl_hpdk_",
        "1IJf2wGSpsll",
        "9bp1E0Jusb-W",
        "GJ0XoyFAjjy0",
        "RGWH1wKIvpUn",
        "2FZm0K1o4uBF",
        "b00eoUTnBTVZ"
      ],
      "provenance": []
    },
    "kernelspec": {
      "display_name": "Python 3",
      "name": "python3"
    },
    "language_info": {
      "codemirror_mode": {
        "name": "ipython",
        "version": 3
      },
      "file_extension": ".py",
      "mimetype": "text/x-python",
      "name": "python",
      "nbconvert_exporter": "python",
      "pygments_lexer": "ipython3",
      "version": "3.10.6"
    }
  },
  "nbformat": 4,
  "nbformat_minor": 5
}
